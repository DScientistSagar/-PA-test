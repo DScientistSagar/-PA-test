{
 "cells": [
  {
   "cell_type": "markdown",
   "id": "41f112c6",
   "metadata": {},
   "source": [
    "##website_performance"
   ]
  },
  {
   "cell_type": "code",
   "execution_count": 1,
   "id": "4c86a945",
   "metadata": {},
   "outputs": [],
   "source": [
    "import numpy as np\n",
    "import pandas as pd\n",
    "import matplotlib.pyplot as plt\n",
    "import seaborn as sns\n",
    "%matplotlib inline"
   ]
  },
  {
   "cell_type": "code",
   "execution_count": 2,
   "id": "52748f7d",
   "metadata": {},
   "outputs": [
    {
     "data": {
      "text/html": [
       "<div>\n",
       "<style scoped>\n",
       "    .dataframe tbody tr th:only-of-type {\n",
       "        vertical-align: middle;\n",
       "    }\n",
       "\n",
       "    .dataframe tbody tr th {\n",
       "        vertical-align: top;\n",
       "    }\n",
       "\n",
       "    .dataframe thead th {\n",
       "        text-align: right;\n",
       "    }\n",
       "</style>\n",
       "<table border=\"1\" class=\"dataframe\">\n",
       "  <thead>\n",
       "    <tr style=\"text-align: right;\">\n",
       "      <th></th>\n",
       "      <th>Month</th>\n",
       "      <th>Page_Load_Time</th>\n",
       "      <th>Bounce_Rate</th>\n",
       "      <th>Conversion_Rate</th>\n",
       "    </tr>\n",
       "  </thead>\n",
       "  <tbody>\n",
       "    <tr>\n",
       "      <th>0</th>\n",
       "      <td>2023-01-01</td>\n",
       "      <td>5.106652</td>\n",
       "      <td>0.514345</td>\n",
       "      <td>0.047375</td>\n",
       "    </tr>\n",
       "    <tr>\n",
       "      <th>1</th>\n",
       "      <td>2023-02-01</td>\n",
       "      <td>7.828199</td>\n",
       "      <td>0.317157</td>\n",
       "      <td>0.062764</td>\n",
       "    </tr>\n",
       "    <tr>\n",
       "      <th>2</th>\n",
       "      <td>2023-03-01</td>\n",
       "      <td>3.239983</td>\n",
       "      <td>0.480903</td>\n",
       "      <td>0.050514</td>\n",
       "    </tr>\n",
       "    <tr>\n",
       "      <th>3</th>\n",
       "      <td>2023-04-01</td>\n",
       "      <td>5.954509</td>\n",
       "      <td>0.473572</td>\n",
       "      <td>0.057151</td>\n",
       "    </tr>\n",
       "    <tr>\n",
       "      <th>4</th>\n",
       "      <td>2023-05-01</td>\n",
       "      <td>9.872398</td>\n",
       "      <td>0.542407</td>\n",
       "      <td>0.089525</td>\n",
       "    </tr>\n",
       "  </tbody>\n",
       "</table>\n",
       "</div>"
      ],
      "text/plain": [
       "        Month  Page_Load_Time  Bounce_Rate  Conversion_Rate\n",
       "0  2023-01-01        5.106652     0.514345         0.047375\n",
       "1  2023-02-01        7.828199     0.317157         0.062764\n",
       "2  2023-03-01        3.239983     0.480903         0.050514\n",
       "3  2023-04-01        5.954509     0.473572         0.057151\n",
       "4  2023-05-01        9.872398     0.542407         0.089525"
      ]
     },
     "execution_count": 2,
     "metadata": {},
     "output_type": "execute_result"
    }
   ],
   "source": [
    "df = pd.read_csv(\"D:\\DATA SCIENCE\\Kaholas assignment\\website_performance.csv\",encoding='latin-1')\n",
    "df.head()"
   ]
  },
  {
   "cell_type": "code",
   "execution_count": 3,
   "id": "8f2dd5a7",
   "metadata": {},
   "outputs": [
    {
     "data": {
      "text/plain": [
       "(12, 4)"
      ]
     },
     "execution_count": 3,
     "metadata": {},
     "output_type": "execute_result"
    }
   ],
   "source": [
    "df.shape"
   ]
  },
  {
   "cell_type": "code",
   "execution_count": 4,
   "id": "d88ab402",
   "metadata": {},
   "outputs": [
    {
     "data": {
      "text/html": [
       "<div>\n",
       "<style scoped>\n",
       "    .dataframe tbody tr th:only-of-type {\n",
       "        vertical-align: middle;\n",
       "    }\n",
       "\n",
       "    .dataframe tbody tr th {\n",
       "        vertical-align: top;\n",
       "    }\n",
       "\n",
       "    .dataframe thead th {\n",
       "        text-align: right;\n",
       "    }\n",
       "</style>\n",
       "<table border=\"1\" class=\"dataframe\">\n",
       "  <thead>\n",
       "    <tr style=\"text-align: right;\">\n",
       "      <th></th>\n",
       "      <th>Page_Load_Time</th>\n",
       "      <th>Bounce_Rate</th>\n",
       "      <th>Conversion_Rate</th>\n",
       "    </tr>\n",
       "  </thead>\n",
       "  <tbody>\n",
       "    <tr>\n",
       "      <th>count</th>\n",
       "      <td>12.000000</td>\n",
       "      <td>12.000000</td>\n",
       "      <td>12.000000</td>\n",
       "    </tr>\n",
       "    <tr>\n",
       "      <th>mean</th>\n",
       "      <td>5.866266</td>\n",
       "      <td>0.452650</td>\n",
       "      <td>0.060056</td>\n",
       "    </tr>\n",
       "    <tr>\n",
       "      <th>std</th>\n",
       "      <td>2.288288</td>\n",
       "      <td>0.086482</td>\n",
       "      <td>0.014993</td>\n",
       "    </tr>\n",
       "    <tr>\n",
       "      <th>min</th>\n",
       "      <td>2.468395</td>\n",
       "      <td>0.301692</td>\n",
       "      <td>0.038263</td>\n",
       "    </tr>\n",
       "    <tr>\n",
       "      <th>25%</th>\n",
       "      <td>4.165375</td>\n",
       "      <td>0.389651</td>\n",
       "      <td>0.048626</td>\n",
       "    </tr>\n",
       "    <tr>\n",
       "      <th>50%</th>\n",
       "      <td>5.621936</td>\n",
       "      <td>0.477238</td>\n",
       "      <td>0.059957</td>\n",
       "    </tr>\n",
       "    <tr>\n",
       "      <th>75%</th>\n",
       "      <td>7.457142</td>\n",
       "      <td>0.517399</td>\n",
       "      <td>0.065832</td>\n",
       "    </tr>\n",
       "    <tr>\n",
       "      <th>max</th>\n",
       "      <td>9.872398</td>\n",
       "      <td>0.566843</td>\n",
       "      <td>0.089525</td>\n",
       "    </tr>\n",
       "  </tbody>\n",
       "</table>\n",
       "</div>"
      ],
      "text/plain": [
       "       Page_Load_Time  Bounce_Rate  Conversion_Rate\n",
       "count       12.000000    12.000000        12.000000\n",
       "mean         5.866266     0.452650         0.060056\n",
       "std          2.288288     0.086482         0.014993\n",
       "min          2.468395     0.301692         0.038263\n",
       "25%          4.165375     0.389651         0.048626\n",
       "50%          5.621936     0.477238         0.059957\n",
       "75%          7.457142     0.517399         0.065832\n",
       "max          9.872398     0.566843         0.089525"
      ]
     },
     "execution_count": 4,
     "metadata": {},
     "output_type": "execute_result"
    }
   ],
   "source": [
    "df.describe()"
   ]
  },
  {
   "cell_type": "code",
   "execution_count": 5,
   "id": "4cae6136",
   "metadata": {},
   "outputs": [
    {
     "name": "stdout",
     "output_type": "stream",
     "text": [
      "<class 'pandas.core.frame.DataFrame'>\n",
      "RangeIndex: 12 entries, 0 to 11\n",
      "Data columns (total 4 columns):\n",
      " #   Column           Non-Null Count  Dtype  \n",
      "---  ------           --------------  -----  \n",
      " 0   Month            12 non-null     object \n",
      " 1   Page_Load_Time   12 non-null     float64\n",
      " 2   Bounce_Rate      12 non-null     float64\n",
      " 3   Conversion_Rate  12 non-null     float64\n",
      "dtypes: float64(3), object(1)\n",
      "memory usage: 512.0+ bytes\n"
     ]
    }
   ],
   "source": [
    "df.info()"
   ]
  },
  {
   "cell_type": "code",
   "execution_count": 6,
   "id": "25337b46",
   "metadata": {
    "scrolled": true
   },
   "outputs": [
    {
     "data": {
      "text/plain": [
       "Month              False\n",
       "Page_Load_Time     False\n",
       "Bounce_Rate        False\n",
       "Conversion_Rate    False\n",
       "dtype: bool"
      ]
     },
     "execution_count": 6,
     "metadata": {},
     "output_type": "execute_result"
    }
   ],
   "source": [
    "df.isnull().any()"
   ]
  },
  {
   "cell_type": "code",
   "execution_count": 7,
   "id": "c51b31e8",
   "metadata": {},
   "outputs": [
    {
     "data": {
      "text/plain": [
       "Month              0\n",
       "Page_Load_Time     0\n",
       "Bounce_Rate        0\n",
       "Conversion_Rate    0\n",
       "dtype: int64"
      ]
     },
     "execution_count": 7,
     "metadata": {},
     "output_type": "execute_result"
    }
   ],
   "source": [
    "df.isnull().sum()"
   ]
  },
  {
   "cell_type": "code",
   "execution_count": 8,
   "id": "e3ef3b26",
   "metadata": {},
   "outputs": [
    {
     "data": {
      "text/plain": [
       "0     2023\n",
       "1     2023\n",
       "2     2023\n",
       "3     2023\n",
       "4     2023\n",
       "5     2023\n",
       "6     2023\n",
       "7     2023\n",
       "8     2023\n",
       "9     2023\n",
       "10    2023\n",
       "11    2023\n",
       "Name: Month, dtype: object"
      ]
     },
     "execution_count": 8,
     "metadata": {},
     "output_type": "execute_result"
    }
   ],
   "source": [
    "df['Month'].str.split('-').str[0]"
   ]
  },
  {
   "cell_type": "code",
   "execution_count": 9,
   "id": "565bf57b",
   "metadata": {},
   "outputs": [],
   "source": [
    "df['Year'] = df['Month'].str.split('-').str[0]\n",
    "df['Months'] = df['Month'].str.split('-').str[1]\n",
    "df['Date'] = df['Month'].str.split('-').str[2]"
   ]
  },
  {
   "cell_type": "code",
   "execution_count": 10,
   "id": "fbd410fe",
   "metadata": {},
   "outputs": [
    {
     "data": {
      "text/html": [
       "<div>\n",
       "<style scoped>\n",
       "    .dataframe tbody tr th:only-of-type {\n",
       "        vertical-align: middle;\n",
       "    }\n",
       "\n",
       "    .dataframe tbody tr th {\n",
       "        vertical-align: top;\n",
       "    }\n",
       "\n",
       "    .dataframe thead th {\n",
       "        text-align: right;\n",
       "    }\n",
       "</style>\n",
       "<table border=\"1\" class=\"dataframe\">\n",
       "  <thead>\n",
       "    <tr style=\"text-align: right;\">\n",
       "      <th></th>\n",
       "      <th>Month</th>\n",
       "      <th>Page_Load_Time</th>\n",
       "      <th>Bounce_Rate</th>\n",
       "      <th>Conversion_Rate</th>\n",
       "      <th>Year</th>\n",
       "      <th>Months</th>\n",
       "      <th>Date</th>\n",
       "    </tr>\n",
       "  </thead>\n",
       "  <tbody>\n",
       "    <tr>\n",
       "      <th>0</th>\n",
       "      <td>2023-01-01</td>\n",
       "      <td>5.106652</td>\n",
       "      <td>0.514345</td>\n",
       "      <td>0.047375</td>\n",
       "      <td>2023</td>\n",
       "      <td>01</td>\n",
       "      <td>01</td>\n",
       "    </tr>\n",
       "    <tr>\n",
       "      <th>1</th>\n",
       "      <td>2023-02-01</td>\n",
       "      <td>7.828199</td>\n",
       "      <td>0.317157</td>\n",
       "      <td>0.062764</td>\n",
       "      <td>2023</td>\n",
       "      <td>02</td>\n",
       "      <td>01</td>\n",
       "    </tr>\n",
       "    <tr>\n",
       "      <th>2</th>\n",
       "      <td>2023-03-01</td>\n",
       "      <td>3.239983</td>\n",
       "      <td>0.480903</td>\n",
       "      <td>0.050514</td>\n",
       "      <td>2023</td>\n",
       "      <td>03</td>\n",
       "      <td>01</td>\n",
       "    </tr>\n",
       "    <tr>\n",
       "      <th>3</th>\n",
       "      <td>2023-04-01</td>\n",
       "      <td>5.954509</td>\n",
       "      <td>0.473572</td>\n",
       "      <td>0.057151</td>\n",
       "      <td>2023</td>\n",
       "      <td>04</td>\n",
       "      <td>01</td>\n",
       "    </tr>\n",
       "    <tr>\n",
       "      <th>4</th>\n",
       "      <td>2023-05-01</td>\n",
       "      <td>9.872398</td>\n",
       "      <td>0.542407</td>\n",
       "      <td>0.089525</td>\n",
       "      <td>2023</td>\n",
       "      <td>05</td>\n",
       "      <td>01</td>\n",
       "    </tr>\n",
       "  </tbody>\n",
       "</table>\n",
       "</div>"
      ],
      "text/plain": [
       "        Month  Page_Load_Time  Bounce_Rate  Conversion_Rate  Year Months Date\n",
       "0  2023-01-01        5.106652     0.514345         0.047375  2023     01   01\n",
       "1  2023-02-01        7.828199     0.317157         0.062764  2023     02   01\n",
       "2  2023-03-01        3.239983     0.480903         0.050514  2023     03   01\n",
       "3  2023-04-01        5.954509     0.473572         0.057151  2023     04   01\n",
       "4  2023-05-01        9.872398     0.542407         0.089525  2023     05   01"
      ]
     },
     "execution_count": 10,
     "metadata": {},
     "output_type": "execute_result"
    }
   ],
   "source": [
    "df.head()"
   ]
  },
  {
   "cell_type": "code",
   "execution_count": 11,
   "id": "10f90851",
   "metadata": {},
   "outputs": [],
   "source": [
    "df['Date'] = df['Date'].astype(int)\n",
    "df['Months'] = df['Months'].astype(int)\n",
    "df['Year']  = df['Year'].astype(int)"
   ]
  },
  {
   "cell_type": "code",
   "execution_count": 12,
   "id": "85b09bf4",
   "metadata": {},
   "outputs": [
    {
     "name": "stdout",
     "output_type": "stream",
     "text": [
      "<class 'pandas.core.frame.DataFrame'>\n",
      "RangeIndex: 12 entries, 0 to 11\n",
      "Data columns (total 7 columns):\n",
      " #   Column           Non-Null Count  Dtype  \n",
      "---  ------           --------------  -----  \n",
      " 0   Month            12 non-null     object \n",
      " 1   Page_Load_Time   12 non-null     float64\n",
      " 2   Bounce_Rate      12 non-null     float64\n",
      " 3   Conversion_Rate  12 non-null     float64\n",
      " 4   Year             12 non-null     int32  \n",
      " 5   Months           12 non-null     int32  \n",
      " 6   Date             12 non-null     int32  \n",
      "dtypes: float64(3), int32(3), object(1)\n",
      "memory usage: 656.0+ bytes\n"
     ]
    }
   ],
   "source": [
    "df.info()"
   ]
  },
  {
   "cell_type": "code",
   "execution_count": 13,
   "id": "ee6f3ea5",
   "metadata": {},
   "outputs": [],
   "source": [
    "df.drop('Month',axis = 1,inplace = True)"
   ]
  },
  {
   "cell_type": "code",
   "execution_count": 14,
   "id": "1b91e907",
   "metadata": {
    "scrolled": true
   },
   "outputs": [
    {
     "data": {
      "text/html": [
       "<div>\n",
       "<style scoped>\n",
       "    .dataframe tbody tr th:only-of-type {\n",
       "        vertical-align: middle;\n",
       "    }\n",
       "\n",
       "    .dataframe tbody tr th {\n",
       "        vertical-align: top;\n",
       "    }\n",
       "\n",
       "    .dataframe thead th {\n",
       "        text-align: right;\n",
       "    }\n",
       "</style>\n",
       "<table border=\"1\" class=\"dataframe\">\n",
       "  <thead>\n",
       "    <tr style=\"text-align: right;\">\n",
       "      <th></th>\n",
       "      <th>Page_Load_Time</th>\n",
       "      <th>Bounce_Rate</th>\n",
       "      <th>Conversion_Rate</th>\n",
       "      <th>Year</th>\n",
       "      <th>Months</th>\n",
       "      <th>Date</th>\n",
       "    </tr>\n",
       "  </thead>\n",
       "  <tbody>\n",
       "    <tr>\n",
       "      <th>0</th>\n",
       "      <td>5.106652</td>\n",
       "      <td>0.514345</td>\n",
       "      <td>0.047375</td>\n",
       "      <td>2023</td>\n",
       "      <td>1</td>\n",
       "      <td>1</td>\n",
       "    </tr>\n",
       "    <tr>\n",
       "      <th>1</th>\n",
       "      <td>7.828199</td>\n",
       "      <td>0.317157</td>\n",
       "      <td>0.062764</td>\n",
       "      <td>2023</td>\n",
       "      <td>2</td>\n",
       "      <td>1</td>\n",
       "    </tr>\n",
       "    <tr>\n",
       "      <th>2</th>\n",
       "      <td>3.239983</td>\n",
       "      <td>0.480903</td>\n",
       "      <td>0.050514</td>\n",
       "      <td>2023</td>\n",
       "      <td>3</td>\n",
       "      <td>1</td>\n",
       "    </tr>\n",
       "    <tr>\n",
       "      <th>3</th>\n",
       "      <td>5.954509</td>\n",
       "      <td>0.473572</td>\n",
       "      <td>0.057151</td>\n",
       "      <td>2023</td>\n",
       "      <td>4</td>\n",
       "      <td>1</td>\n",
       "    </tr>\n",
       "    <tr>\n",
       "      <th>4</th>\n",
       "      <td>9.872398</td>\n",
       "      <td>0.542407</td>\n",
       "      <td>0.089525</td>\n",
       "      <td>2023</td>\n",
       "      <td>5</td>\n",
       "      <td>1</td>\n",
       "    </tr>\n",
       "  </tbody>\n",
       "</table>\n",
       "</div>"
      ],
      "text/plain": [
       "   Page_Load_Time  Bounce_Rate  Conversion_Rate  Year  Months  Date\n",
       "0        5.106652     0.514345         0.047375  2023       1     1\n",
       "1        7.828199     0.317157         0.062764  2023       2     1\n",
       "2        3.239983     0.480903         0.050514  2023       3     1\n",
       "3        5.954509     0.473572         0.057151  2023       4     1\n",
       "4        9.872398     0.542407         0.089525  2023       5     1"
      ]
     },
     "execution_count": 14,
     "metadata": {},
     "output_type": "execute_result"
    }
   ],
   "source": [
    "df.head()"
   ]
  },
  {
   "cell_type": "code",
   "execution_count": null,
   "id": "38e02f60",
   "metadata": {},
   "outputs": [],
   "source": []
  },
  {
   "cell_type": "code",
   "execution_count": 15,
   "id": "2ec1f7c5",
   "metadata": {},
   "outputs": [],
   "source": [
    "# Convert 'Date' column to datetime\n",
    "df['Date'] = pd.to_datetime(df['Date'])"
   ]
  },
  {
   "cell_type": "code",
   "execution_count": 16,
   "id": "78c8e9e0",
   "metadata": {},
   "outputs": [
    {
     "data": {
      "text/plain": [
       "0    1970-01-01 00:00:00.000000001\n",
       "1    1970-01-01 00:00:00.000000001\n",
       "2    1970-01-01 00:00:00.000000001\n",
       "3    1970-01-01 00:00:00.000000001\n",
       "4    1970-01-01 00:00:00.000000001\n",
       "5    1970-01-01 00:00:00.000000001\n",
       "6    1970-01-01 00:00:00.000000001\n",
       "7    1970-01-01 00:00:00.000000001\n",
       "8    1970-01-01 00:00:00.000000001\n",
       "9    1970-01-01 00:00:00.000000001\n",
       "10   1970-01-01 00:00:00.000000001\n",
       "11   1970-01-01 00:00:00.000000001\n",
       "Name: Date, dtype: datetime64[ns]"
      ]
     },
     "execution_count": 16,
     "metadata": {},
     "output_type": "execute_result"
    }
   ],
   "source": [
    "df['Date']"
   ]
  },
  {
   "cell_type": "code",
   "execution_count": 17,
   "id": "1b22b3f6",
   "metadata": {},
   "outputs": [],
   "source": [
    "# Calculate average page load time\n",
    "average_load_time = df['Page_Load_Time'].mean()"
   ]
  },
  {
   "cell_type": "code",
   "execution_count": 18,
   "id": "2a2d241f",
   "metadata": {},
   "outputs": [],
   "source": [
    "# Calculate average bounce rate\n",
    "average_bounce_rate = df['Bounce_Rate'].mean()"
   ]
  },
  {
   "cell_type": "code",
   "execution_count": 19,
   "id": "910370dd",
   "metadata": {},
   "outputs": [],
   "source": [
    "# Calculate average conversion rate\n",
    "average_conversion_rate = df['Conversion_Rate'].mean()\n"
   ]
  },
  {
   "cell_type": "code",
   "execution_count": 20,
   "id": "5746ee2c",
   "metadata": {},
   "outputs": [],
   "source": [
    "# Identify months with the highest bounce rate\n",
    "max_bounce_rate_month = df.loc[df['Bounce_Rate'].idxmax(), 'Months']"
   ]
  },
  {
   "cell_type": "code",
   "execution_count": 21,
   "id": "2c44254d",
   "metadata": {},
   "outputs": [],
   "source": [
    "# Identify months with the highest conversion rate\n",
    "max_conversion_rate_month = df.loc[df['Conversion_Rate'].idxmax(), 'Months']\n"
   ]
  },
  {
   "cell_type": "code",
   "execution_count": 22,
   "id": "5e3f2fa8",
   "metadata": {},
   "outputs": [
    {
     "name": "stdout",
     "output_type": "stream",
     "text": [
      "Website Performance Metrics:\n",
      "Average Page Load Time: 5.866266048900847\n",
      "Average Bounce Rate: 0.4526503154628032\n",
      "Average Conversion Rate: 0.06005589709726499\n",
      "Month with the Highest Bounce Rate: 10\n",
      "Month with the Highest Conversion Rate: 5\n"
     ]
    }
   ],
   "source": [
    "# Display the results\n",
    "print(\"Website Performance Metrics:\")\n",
    "print(\"Average Page Load Time:\", average_load_time)\n",
    "print(\"Average Bounce Rate:\", average_bounce_rate)\n",
    "print(\"Average Conversion Rate:\", average_conversion_rate)\n",
    "print(\"Month with the Highest Bounce Rate:\", max_bounce_rate_month)\n",
    "print(\"Month with the Highest Conversion Rate:\", max_conversion_rate_month)"
   ]
  },
  {
   "cell_type": "code",
   "execution_count": null,
   "id": "19260539",
   "metadata": {},
   "outputs": [],
   "source": []
  }
 ],
 "metadata": {
  "kernelspec": {
   "display_name": "Python 3 (ipykernel)",
   "language": "python",
   "name": "python3"
  },
  "language_info": {
   "codemirror_mode": {
    "name": "ipython",
    "version": 3
   },
   "file_extension": ".py",
   "mimetype": "text/x-python",
   "name": "python",
   "nbconvert_exporter": "python",
   "pygments_lexer": "ipython3",
   "version": "3.9.13"
  }
 },
 "nbformat": 4,
 "nbformat_minor": 5
}
