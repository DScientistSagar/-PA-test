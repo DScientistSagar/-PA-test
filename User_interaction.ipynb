{
 "cells": [
  {
   "cell_type": "markdown",
   "id": "60329cc1",
   "metadata": {},
   "source": [
    "##User interaction "
   ]
  },
  {
   "cell_type": "code",
   "execution_count": 1,
   "id": "bde185c9",
   "metadata": {},
   "outputs": [],
   "source": [
    "import numpy as np\n",
    "import pandas as pd\n",
    "import matplotlib.pyplot as plt\n",
    "import matplotlib.colors as mcolors\n",
    "import seaborn as sns\n",
    "%matplotlib inline"
   ]
  },
  {
   "cell_type": "code",
   "execution_count": 2,
   "id": "3bc3cef8",
   "metadata": {},
   "outputs": [
    {
     "data": {
      "text/html": [
       "<div>\n",
       "<style scoped>\n",
       "    .dataframe tbody tr th:only-of-type {\n",
       "        vertical-align: middle;\n",
       "    }\n",
       "\n",
       "    .dataframe tbody tr th {\n",
       "        vertical-align: top;\n",
       "    }\n",
       "\n",
       "    .dataframe thead th {\n",
       "        text-align: right;\n",
       "    }\n",
       "</style>\n",
       "<table border=\"1\" class=\"dataframe\">\n",
       "  <thead>\n",
       "    <tr style=\"text-align: right;\">\n",
       "      <th></th>\n",
       "      <th>User_ID</th>\n",
       "      <th>Page_Viewed</th>\n",
       "      <th>Time_Spent_Seconds</th>\n",
       "    </tr>\n",
       "  </thead>\n",
       "  <tbody>\n",
       "    <tr>\n",
       "      <th>0</th>\n",
       "      <td>User_3198</td>\n",
       "      <td>Homepage</td>\n",
       "      <td>560</td>\n",
       "    </tr>\n",
       "    <tr>\n",
       "      <th>1</th>\n",
       "      <td>User_126</td>\n",
       "      <td>Category Page</td>\n",
       "      <td>168</td>\n",
       "    </tr>\n",
       "    <tr>\n",
       "      <th>2</th>\n",
       "      <td>User_1376</td>\n",
       "      <td>Category Page</td>\n",
       "      <td>122</td>\n",
       "    </tr>\n",
       "    <tr>\n",
       "      <th>3</th>\n",
       "      <td>User_1117</td>\n",
       "      <td>Cart Page</td>\n",
       "      <td>329</td>\n",
       "    </tr>\n",
       "    <tr>\n",
       "      <th>4</th>\n",
       "      <td>User_3683</td>\n",
       "      <td>Category Page</td>\n",
       "      <td>391</td>\n",
       "    </tr>\n",
       "  </tbody>\n",
       "</table>\n",
       "</div>"
      ],
      "text/plain": [
       "     User_ID    Page_Viewed  Time_Spent_Seconds\n",
       "0  User_3198       Homepage                 560\n",
       "1   User_126  Category Page                 168\n",
       "2  User_1376  Category Page                 122\n",
       "3  User_1117      Cart Page                 329\n",
       "4  User_3683  Category Page                 391"
      ]
     },
     "execution_count": 2,
     "metadata": {},
     "output_type": "execute_result"
    }
   ],
   "source": [
    "df = pd.read_csv(\"D:\\\\DATA SCIENCE\\\\Kaholas assignment\\\\user_interactions.csv\",encoding='latin-1')\n",
    "df.head()"
   ]
  },
  {
   "cell_type": "code",
   "execution_count": 3,
   "id": "c625ef27",
   "metadata": {},
   "outputs": [
    {
     "data": {
      "text/plain": [
       "(5000, 3)"
      ]
     },
     "execution_count": 3,
     "metadata": {},
     "output_type": "execute_result"
    }
   ],
   "source": [
    "df.shape"
   ]
  },
  {
   "cell_type": "code",
   "execution_count": 4,
   "id": "d3f02ad3",
   "metadata": {},
   "outputs": [
    {
     "data": {
      "text/plain": [
       "User_ID               0\n",
       "Page_Viewed           0\n",
       "Time_Spent_Seconds    0\n",
       "dtype: int64"
      ]
     },
     "execution_count": 4,
     "metadata": {},
     "output_type": "execute_result"
    }
   ],
   "source": [
    "df.isnull().sum()"
   ]
  },
  {
   "cell_type": "code",
   "execution_count": 5,
   "id": "00bf92af",
   "metadata": {},
   "outputs": [
    {
     "data": {
      "text/plain": [
       "User_ID               False\n",
       "Page_Viewed           False\n",
       "Time_Spent_Seconds    False\n",
       "dtype: bool"
      ]
     },
     "execution_count": 5,
     "metadata": {},
     "output_type": "execute_result"
    }
   ],
   "source": [
    "df.isnull().any()"
   ]
  },
  {
   "cell_type": "code",
   "execution_count": 6,
   "id": "5c791b44",
   "metadata": {},
   "outputs": [
    {
     "name": "stdout",
     "output_type": "stream",
     "text": [
      "<class 'pandas.core.frame.DataFrame'>\n",
      "RangeIndex: 5000 entries, 0 to 4999\n",
      "Data columns (total 3 columns):\n",
      " #   Column              Non-Null Count  Dtype \n",
      "---  ------              --------------  ----- \n",
      " 0   User_ID             5000 non-null   object\n",
      " 1   Page_Viewed         5000 non-null   object\n",
      " 2   Time_Spent_Seconds  5000 non-null   int64 \n",
      "dtypes: int64(1), object(2)\n",
      "memory usage: 117.3+ KB\n"
     ]
    }
   ],
   "source": [
    "df.info()"
   ]
  },
  {
   "cell_type": "code",
   "execution_count": 7,
   "id": "21db6161",
   "metadata": {},
   "outputs": [
    {
     "data": {
      "text/html": [
       "<div>\n",
       "<style scoped>\n",
       "    .dataframe tbody tr th:only-of-type {\n",
       "        vertical-align: middle;\n",
       "    }\n",
       "\n",
       "    .dataframe tbody tr th {\n",
       "        vertical-align: top;\n",
       "    }\n",
       "\n",
       "    .dataframe thead th {\n",
       "        text-align: right;\n",
       "    }\n",
       "</style>\n",
       "<table border=\"1\" class=\"dataframe\">\n",
       "  <thead>\n",
       "    <tr style=\"text-align: right;\">\n",
       "      <th></th>\n",
       "      <th>Time_Spent_Seconds</th>\n",
       "    </tr>\n",
       "  </thead>\n",
       "  <tbody>\n",
       "    <tr>\n",
       "      <th>count</th>\n",
       "      <td>5000.000000</td>\n",
       "    </tr>\n",
       "    <tr>\n",
       "      <th>mean</th>\n",
       "      <td>304.508800</td>\n",
       "    </tr>\n",
       "    <tr>\n",
       "      <th>std</th>\n",
       "      <td>168.978666</td>\n",
       "    </tr>\n",
       "    <tr>\n",
       "      <th>min</th>\n",
       "      <td>10.000000</td>\n",
       "    </tr>\n",
       "    <tr>\n",
       "      <th>25%</th>\n",
       "      <td>160.000000</td>\n",
       "    </tr>\n",
       "    <tr>\n",
       "      <th>50%</th>\n",
       "      <td>301.000000</td>\n",
       "    </tr>\n",
       "    <tr>\n",
       "      <th>75%</th>\n",
       "      <td>452.000000</td>\n",
       "    </tr>\n",
       "    <tr>\n",
       "      <th>max</th>\n",
       "      <td>599.000000</td>\n",
       "    </tr>\n",
       "  </tbody>\n",
       "</table>\n",
       "</div>"
      ],
      "text/plain": [
       "       Time_Spent_Seconds\n",
       "count         5000.000000\n",
       "mean           304.508800\n",
       "std            168.978666\n",
       "min             10.000000\n",
       "25%            160.000000\n",
       "50%            301.000000\n",
       "75%            452.000000\n",
       "max            599.000000"
      ]
     },
     "execution_count": 7,
     "metadata": {},
     "output_type": "execute_result"
    }
   ],
   "source": [
    "df.describe()"
   ]
  },
  {
   "cell_type": "code",
   "execution_count": 8,
   "id": "16d73395",
   "metadata": {},
   "outputs": [],
   "source": [
    "# Calculate the most visited pages\n",
    "most_visited_pages = df['Page_Viewed'].value_counts()"
   ]
  },
  {
   "cell_type": "code",
   "execution_count": 9,
   "id": "a66d523b",
   "metadata": {},
   "outputs": [
    {
     "data": {
      "text/plain": [
       "Homepage         1045\n",
       "Cart Page        1041\n",
       "Checkout Page     989\n",
       "Category Page     972\n",
       "Product Page      953\n",
       "Name: Page_Viewed, dtype: int64"
      ]
     },
     "execution_count": 9,
     "metadata": {},
     "output_type": "execute_result"
    }
   ],
   "source": [
    "most_visited_pages"
   ]
  },
  {
   "cell_type": "code",
   "execution_count": 10,
   "id": "b81c98c4",
   "metadata": {},
   "outputs": [],
   "source": [
    "# Calculate the total number of visits for each section\n",
    "total_visits_per_section = df['Page_Viewed'].value_counts()"
   ]
  },
  {
   "cell_type": "code",
   "execution_count": 11,
   "id": "318183d3",
   "metadata": {},
   "outputs": [
    {
     "data": {
      "text/plain": [
       "Homepage         1045\n",
       "Cart Page        1041\n",
       "Checkout Page     989\n",
       "Category Page     972\n",
       "Product Page      953\n",
       "Name: Page_Viewed, dtype: int64"
      ]
     },
     "execution_count": 11,
     "metadata": {},
     "output_type": "execute_result"
    }
   ],
   "source": [
    "total_visits_per_section"
   ]
  },
  {
   "cell_type": "code",
   "execution_count": 12,
   "id": "234fc5bf",
   "metadata": {},
   "outputs": [],
   "source": [
    "# Calculate the average time spent on each page\n",
    "average_time_spent = df.groupby('Page_Viewed')['Time_Spent_Seconds'].mean()"
   ]
  },
  {
   "cell_type": "code",
   "execution_count": 13,
   "id": "4e6588d5",
   "metadata": {},
   "outputs": [
    {
     "data": {
      "text/plain": [
       "Page_Viewed\n",
       "Cart Page        302.819404\n",
       "Category Page    297.839506\n",
       "Checkout Page    306.760364\n",
       "Homepage         310.215311\n",
       "Product Page     304.562434\n",
       "Name: Time_Spent_Seconds, dtype: float64"
      ]
     },
     "execution_count": 13,
     "metadata": {},
     "output_type": "execute_result"
    }
   ],
   "source": [
    "average_time_spent"
   ]
  },
  {
   "cell_type": "code",
   "execution_count": 14,
   "id": "e1e19468",
   "metadata": {},
   "outputs": [
    {
     "name": "stdout",
     "output_type": "stream",
     "text": [
      "Most Visited Pages:\n",
      "Homepage         1045\n",
      "Cart Page        1041\n",
      "Checkout Page     989\n",
      "Category Page     972\n",
      "Product Page      953\n",
      "Name: Page_Viewed, dtype: int64\n",
      "\n",
      "Average Time Spent on Each Page:\n",
      "Page_Viewed\n",
      "Cart Page        302.819404\n",
      "Category Page    297.839506\n",
      "Checkout Page    306.760364\n",
      "Homepage         310.215311\n",
      "Product Page     304.562434\n",
      "Name: Time_Spent_Seconds, dtype: float64\n"
     ]
    }
   ],
   "source": [
    "# Display the results\n",
    "print(\"Most Visited Pages:\")\n",
    "print(most_visited_pages)\n",
    "\n",
    "print(\"\\nAverage Time Spent on Each Page:\")\n",
    "print(average_time_spent)"
   ]
  },
  {
   "cell_type": "code",
   "execution_count": 15,
   "id": "ac17a872",
   "metadata": {},
   "outputs": [
    {
     "data": {
      "image/png": "[encoded data removed]",
      "text/plain": [
       "<Figure size 1000x600 with 1 Axes>"
      ]
     },
     "metadata": {},
     "output_type": "display_data"
    }
   ],
   "source": [
    "# Create visualizations\n",
    "# Bar plot for most visited pages\n",
    "plt.figure(figsize=(10, 6))\n",
    "sns.barplot(x=most_visited_pages.index, y=most_visited_pages.values, palette='viridis')\n",
    "plt.title('Most Visited Pages')\n",
    "plt.xlabel('Page')\n",
    "plt.ylabel('Number of Visits')\n",
    "plt.xticks(rotation=45, ha='right')\n",
    "plt.show()"
   ]
  },
  {
   "cell_type": "code",
   "execution_count": null,
   "id": "19e49b9c",
   "metadata": {},
   "outputs": [],
   "source": []
  },
  {
   "cell_type": "code",
   "execution_count": 16,
   "id": "7188f259",
   "metadata": {},
   "outputs": [
    {
     "data": {
      "image/png": "[encoded data removed]",
      "text/plain": [
       "<Figure size 1000x600 with 1 Axes>"
      ]
     },
     "metadata": {},
     "output_type": "display_data"
    }
   ],
   "source": [
    "# Bar plot for average time spent on each page\n",
    "plt.figure(figsize=(10, 6))\n",
    "sns.barplot(x=average_time_spent.index, y=average_time_spent.values, palette='magma')\n",
    "plt.title('Average Time Spent on Each Page')\n",
    "plt.xlabel('Page')\n",
    "plt.ylabel('Average Time Spent (seconds)')\n",
    "plt.xticks(rotation=45, ha='right')\n",
    "plt.show()"
   ]
  },
  {
   "cell_type": "code",
   "execution_count": null,
   "id": "e9c508da",
   "metadata": {},
   "outputs": [],
   "source": []
  },
  {
   "cell_type": "code",
   "execution_count": 17,
   "id": "0b19e130",
   "metadata": {},
   "outputs": [],
   "source": [
    "# Calculate the total number of interactions or visits\n",
    "total_interactions = df.shape[0]"
   ]
  },
  {
   "cell_type": "code",
   "execution_count": 18,
   "id": "bf486d85",
   "metadata": {},
   "outputs": [],
   "source": [
    "# Calculate the number of click-through events (user viewed a different page after the current page)\n",
    "click_through_events = df['Page_Viewed'].ne(df['Page_Viewed'].shift(-1)).sum()\n"
   ]
  },
  {
   "cell_type": "code",
   "execution_count": 19,
   "id": "bd8c56c9",
   "metadata": {},
   "outputs": [
    {
     "data": {
      "text/plain": [
       "4025"
      ]
     },
     "execution_count": 19,
     "metadata": {},
     "output_type": "execute_result"
    }
   ],
   "source": [
    "click_through_events"
   ]
  },
  {
   "cell_type": "code",
   "execution_count": 20,
   "id": "c38981ac",
   "metadata": {},
   "outputs": [],
   "source": [
    "# Calculate the click-through rate\n",
    "click_through_rate = click_through_events / total_interactions"
   ]
  },
  {
   "cell_type": "code",
   "execution_count": 21,
   "id": "6dcc889b",
   "metadata": {},
   "outputs": [
    {
     "data": {
      "text/plain": [
       "0.805"
      ]
     },
     "execution_count": 21,
     "metadata": {},
     "output_type": "execute_result"
    }
   ],
   "source": [
    "click_through_rate"
   ]
  },
  {
   "cell_type": "code",
   "execution_count": 22,
   "id": "f3a5077c",
   "metadata": {},
   "outputs": [
    {
     "name": "stdout",
     "output_type": "stream",
     "text": [
      "Click-Through Rate for Different Sections: 80.50%\n"
     ]
    }
   ],
   "source": [
    "# Display the click-through rate\n",
    "print(\"Click-Through Rate for Different Sections: {:.2%}\".format(click_through_rate))"
   ]
  },
  {
   "cell_type": "code",
   "execution_count": 23,
   "id": "3bb72ecf",
   "metadata": {},
   "outputs": [
    {
     "data": {
      "text/html": [
       "<div>\n",
       "<style scoped>\n",
       "    .dataframe tbody tr th:only-of-type {\n",
       "        vertical-align: middle;\n",
       "    }\n",
       "\n",
       "    .dataframe tbody tr th {\n",
       "        vertical-align: top;\n",
       "    }\n",
       "\n",
       "    .dataframe thead th {\n",
       "        text-align: right;\n",
       "    }\n",
       "</style>\n",
       "<table border=\"1\" class=\"dataframe\">\n",
       "  <thead>\n",
       "    <tr style=\"text-align: right;\">\n",
       "      <th></th>\n",
       "      <th>User_ID</th>\n",
       "      <th>Page_Viewed</th>\n",
       "      <th>Time_Spent_Seconds</th>\n",
       "    </tr>\n",
       "  </thead>\n",
       "  <tbody>\n",
       "    <tr>\n",
       "      <th>0</th>\n",
       "      <td>User_3198</td>\n",
       "      <td>Homepage</td>\n",
       "      <td>560</td>\n",
       "    </tr>\n",
       "    <tr>\n",
       "      <th>1</th>\n",
       "      <td>User_126</td>\n",
       "      <td>Category Page</td>\n",
       "      <td>168</td>\n",
       "    </tr>\n",
       "    <tr>\n",
       "      <th>2</th>\n",
       "      <td>User_1376</td>\n",
       "      <td>Category Page</td>\n",
       "      <td>122</td>\n",
       "    </tr>\n",
       "    <tr>\n",
       "      <th>3</th>\n",
       "      <td>User_1117</td>\n",
       "      <td>Cart Page</td>\n",
       "      <td>329</td>\n",
       "    </tr>\n",
       "    <tr>\n",
       "      <th>4</th>\n",
       "      <td>User_3683</td>\n",
       "      <td>Category Page</td>\n",
       "      <td>391</td>\n",
       "    </tr>\n",
       "  </tbody>\n",
       "</table>\n",
       "</div>"
      ],
      "text/plain": [
       "     User_ID    Page_Viewed  Time_Spent_Seconds\n",
       "0  User_3198       Homepage                 560\n",
       "1   User_126  Category Page                 168\n",
       "2  User_1376  Category Page                 122\n",
       "3  User_1117      Cart Page                 329\n",
       "4  User_3683  Category Page                 391"
      ]
     },
     "execution_count": 23,
     "metadata": {},
     "output_type": "execute_result"
    }
   ],
   "source": [
    "df.head()"
   ]
  },
  {
   "cell_type": "code",
   "execution_count": null,
   "id": "8060820c",
   "metadata": {},
   "outputs": [],
   "source": []
  },
  {
   "cell_type": "code",
   "execution_count": 24,
   "id": "e4e191f4",
   "metadata": {},
   "outputs": [],
   "source": [
    "# Convert the \"Time_Spent_Seconds\" column to numeric\n",
    "df['Time_Spent_Seconds'] = pd.to_numeric(df['Time_Spent_Seconds'], errors='coerce')\n"
   ]
  },
  {
   "cell_type": "code",
   "execution_count": 25,
   "id": "45d5c02f",
   "metadata": {},
   "outputs": [],
   "source": [
    "# Convert the \"Page_Viewed\" column to lowercase for consistency\n",
    "df['Page_Viewed'] = df['Page_Viewed'].str.lower()"
   ]
  },
  {
   "cell_type": "code",
   "execution_count": 26,
   "id": "bff775d0",
   "metadata": {},
   "outputs": [],
   "source": [
    "# Find the first interaction date for each user (signup date)\n",
    "signup_dates = df.groupby('User_ID')['Time_Spent_Seconds'].idxmin()"
   ]
  },
  {
   "cell_type": "code",
   "execution_count": 27,
   "id": "66be6cb2",
   "metadata": {},
   "outputs": [],
   "source": [
    "df['Signup_Date'] = df.loc[signup_dates, 'Time_Spent_Seconds'].index.to_series().map(df['Time_Spent_Seconds'])\n"
   ]
  },
  {
   "cell_type": "code",
   "execution_count": 28,
   "id": "7e913560",
   "metadata": {},
   "outputs": [],
   "source": [
    "# Convert \"Signup_Date\" and \"Time_Spent_Seconds\" columns to datetime\n",
    "df['Signup_Date'] = pd.to_datetime(df['Signup_Date'])\n",
    "df['Time_Spent_Seconds'] = pd.to_datetime(df['Time_Spent_Seconds'])\n"
   ]
  },
  {
   "cell_type": "code",
   "execution_count": 29,
   "id": "b05fabdc",
   "metadata": {},
   "outputs": [],
   "source": [
    "# Extract the signup month from the \"Signup_Date\"\n",
    "df['Signup_Month'] = df['Signup_Date'].dt.to_period('M')\n"
   ]
  },
  {
   "cell_type": "code",
   "execution_count": 30,
   "id": "8aeccd57",
   "metadata": {},
   "outputs": [],
   "source": [
    "# Calculate the cohort size (number of sign-ups) for each month\n",
    "cohort_sizes = df.groupby('Signup_Month')['User_ID'].nunique()"
   ]
  },
  {
   "cell_type": "code",
   "execution_count": 31,
   "id": "e2da683a",
   "metadata": {},
   "outputs": [],
   "source": [
    "# Create a pivot table to track user retention over time\n",
    "cohorts = df.pivot_table(index='Signup_Month', columns='Time_Spent_Seconds', values='User_ID', aggfunc=pd.Series.nunique)\n"
   ]
  },
  {
   "cell_type": "code",
   "execution_count": 32,
   "id": "fbac1677",
   "metadata": {},
   "outputs": [],
   "source": [
    "# Calculate the retention rate for each cohort\n",
    "retention_rate = cohorts.divide(cohort_sizes, axis=0)"
   ]
  },
  {
   "cell_type": "code",
   "execution_count": 33,
   "id": "92e5b123",
   "metadata": {},
   "outputs": [
    {
     "data": {
      "image/png": "[encoded data removed]",
      "text/plain": [
       "<Figure size 1000x600 with 2 Axes>"
      ]
     },
     "metadata": {},
     "output_type": "display_data"
    }
   ],
   "source": [
    "# Plot the cohort analysis heatmap\n",
    "plt.figure(figsize=(10, 6))\n",
    "plt.title('Cohort Analysis - User Retention')\n",
    "sns.heatmap(retention_rate, annot=True, fmt='.0%', cmap='Blues')\n",
    "plt.xlabel('Months Since Signup')\n",
    "plt.ylabel('Cohort Month')\n",
    "plt.show()"
   ]
  },
  {
   "cell_type": "code",
   "execution_count": 34,
   "id": "4708f554",
   "metadata": {},
   "outputs": [
    {
     "data": {
      "text/html": [
       "<div>\n",
       "<style scoped>\n",
       "    .dataframe tbody tr th:only-of-type {\n",
       "        vertical-align: middle;\n",
       "    }\n",
       "\n",
       "    .dataframe tbody tr th {\n",
       "        vertical-align: top;\n",
       "    }\n",
       "\n",
       "    .dataframe thead th {\n",
       "        text-align: right;\n",
       "    }\n",
       "</style>\n",
       "<table border=\"1\" class=\"dataframe\">\n",
       "  <thead>\n",
       "    <tr style=\"text-align: right;\">\n",
       "      <th></th>\n",
       "      <th>User_ID</th>\n",
       "      <th>Page_Viewed</th>\n",
       "      <th>Time_Spent_Seconds</th>\n",
       "      <th>Signup_Date</th>\n",
       "      <th>Signup_Month</th>\n",
       "    </tr>\n",
       "  </thead>\n",
       "  <tbody>\n",
       "    <tr>\n",
       "      <th>0</th>\n",
       "      <td>User_3198</td>\n",
       "      <td>homepage</td>\n",
       "      <td>1970-01-01 00:00:00.000000560</td>\n",
       "      <td>NaT</td>\n",
       "      <td>NaT</td>\n",
       "    </tr>\n",
       "    <tr>\n",
       "      <th>1</th>\n",
       "      <td>User_126</td>\n",
       "      <td>category page</td>\n",
       "      <td>1970-01-01 00:00:00.000000168</td>\n",
       "      <td>1970-01-01 00:00:00.000000168</td>\n",
       "      <td>1970-01</td>\n",
       "    </tr>\n",
       "    <tr>\n",
       "      <th>2</th>\n",
       "      <td>User_1376</td>\n",
       "      <td>category page</td>\n",
       "      <td>1970-01-01 00:00:00.000000122</td>\n",
       "      <td>1970-01-01 00:00:00.000000122</td>\n",
       "      <td>1970-01</td>\n",
       "    </tr>\n",
       "    <tr>\n",
       "      <th>3</th>\n",
       "      <td>User_1117</td>\n",
       "      <td>cart page</td>\n",
       "      <td>1970-01-01 00:00:00.000000329</td>\n",
       "      <td>NaT</td>\n",
       "      <td>NaT</td>\n",
       "    </tr>\n",
       "    <tr>\n",
       "      <th>4</th>\n",
       "      <td>User_3683</td>\n",
       "      <td>category page</td>\n",
       "      <td>1970-01-01 00:00:00.000000391</td>\n",
       "      <td>NaT</td>\n",
       "      <td>NaT</td>\n",
       "    </tr>\n",
       "  </tbody>\n",
       "</table>\n",
       "</div>"
      ],
      "text/plain": [
       "     User_ID    Page_Viewed            Time_Spent_Seconds  \\\n",
       "0  User_3198       homepage 1970-01-01 00:00:00.000000560   \n",
       "1   User_126  category page 1970-01-01 00:00:00.000000168   \n",
       "2  User_1376  category page 1970-01-01 00:00:00.000000122   \n",
       "3  User_1117      cart page 1970-01-01 00:00:00.000000329   \n",
       "4  User_3683  category page 1970-01-01 00:00:00.000000391   \n",
       "\n",
       "                    Signup_Date Signup_Month  \n",
       "0                           NaT          NaT  \n",
       "1 1970-01-01 00:00:00.000000168      1970-01  \n",
       "2 1970-01-01 00:00:00.000000122      1970-01  \n",
       "3                           NaT          NaT  \n",
       "4                           NaT          NaT  "
      ]
     },
     "execution_count": 34,
     "metadata": {},
     "output_type": "execute_result"
    }
   ],
   "source": [
    "df.head()"
   ]
  },
  {
   "cell_type": "code",
   "execution_count": null,
   "id": "520cdae3",
   "metadata": {},
   "outputs": [],
   "source": []
  }
 ],
 "metadata": {
  "kernelspec": {
   "display_name": "Python 3 (ipykernel)",
   "language": "python",
   "name": "python3"
  },
  "language_info": {
   "codemirror_mode": {
    "name": "ipython",
    "version": 3
   },
   "file_extension": ".py",
   "mimetype": "text/x-python",
   "name": "python",
   "nbconvert_exporter": "python",
   "pygments_lexer": "ipython3",
   "version": "3.9.13"
  }
 },
 "nbformat": 4,
 "nbformat_minor": 5
}
