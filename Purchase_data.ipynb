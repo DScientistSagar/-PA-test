{
 "cells": [
  {
   "cell_type": "markdown",
   "id": "8d699705",
   "metadata": {},
   "source": [
    "##Purchase data"
   ]
  },
  {
   "cell_type": "code",
   "execution_count": 1,
   "id": "1cfe38ce",
   "metadata": {},
   "outputs": [],
   "source": [
    "import numpy as np\n",
    "import pandas as pd\n",
    "import matplotlib.pyplot as plt\n",
    "import seaborn as sns\n",
    "%matplotlib inline"
   ]
  },
  {
   "cell_type": "code",
   "execution_count": 2,
   "id": "502bb880",
   "metadata": {},
   "outputs": [
    {
     "data": {
      "text/html": [
       "<div>\n",
       "<style scoped>\n",
       "    .dataframe tbody tr th:only-of-type {\n",
       "        vertical-align: middle;\n",
       "    }\n",
       "\n",
       "    .dataframe tbody tr th {\n",
       "        vertical-align: top;\n",
       "    }\n",
       "\n",
       "    .dataframe thead th {\n",
       "        text-align: right;\n",
       "    }\n",
       "</style>\n",
       "<table border=\"1\" class=\"dataframe\">\n",
       "  <thead>\n",
       "    <tr style=\"text-align: right;\">\n",
       "      <th></th>\n",
       "      <th>Purchase_ID</th>\n",
       "      <th>User_ID</th>\n",
       "      <th>Product_ID</th>\n",
       "      <th>Transaction_Amount</th>\n",
       "      <th>Purchase_Time</th>\n",
       "    </tr>\n",
       "  </thead>\n",
       "  <tbody>\n",
       "    <tr>\n",
       "      <th>0</th>\n",
       "      <td>Purchase_948</td>\n",
       "      <td>User_3840</td>\n",
       "      <td>Product_19</td>\n",
       "      <td>62.843031</td>\n",
       "      <td>2023-04-02 16:35:46</td>\n",
       "    </tr>\n",
       "    <tr>\n",
       "      <th>1</th>\n",
       "      <td>Purchase_905</td>\n",
       "      <td>User_1846</td>\n",
       "      <td>Product_9</td>\n",
       "      <td>21.780079</td>\n",
       "      <td>2023-04-14 16:38:27</td>\n",
       "    </tr>\n",
       "    <tr>\n",
       "      <th>2</th>\n",
       "      <td>Purchase_704</td>\n",
       "      <td>User_1700</td>\n",
       "      <td>Product_8</td>\n",
       "      <td>138.264455</td>\n",
       "      <td>2023-01-21 11:21:31</td>\n",
       "    </tr>\n",
       "    <tr>\n",
       "      <th>3</th>\n",
       "      <td>Purchase_766</td>\n",
       "      <td>User_4117</td>\n",
       "      <td>Product_15</td>\n",
       "      <td>74.991367</td>\n",
       "      <td>2023-01-29 04:44:04</td>\n",
       "    </tr>\n",
       "    <tr>\n",
       "      <th>4</th>\n",
       "      <td>Purchase_36</td>\n",
       "      <td>User_3053</td>\n",
       "      <td>Product_7</td>\n",
       "      <td>162.569998</td>\n",
       "      <td>2023-05-24 03:30:23</td>\n",
       "    </tr>\n",
       "  </tbody>\n",
       "</table>\n",
       "</div>"
      ],
      "text/plain": [
       "    Purchase_ID    User_ID  Product_ID  Transaction_Amount  \\\n",
       "0  Purchase_948  User_3840  Product_19           62.843031   \n",
       "1  Purchase_905  User_1846   Product_9           21.780079   \n",
       "2  Purchase_704  User_1700   Product_8          138.264455   \n",
       "3  Purchase_766  User_4117  Product_15           74.991367   \n",
       "4   Purchase_36  User_3053   Product_7          162.569998   \n",
       "\n",
       "         Purchase_Time  \n",
       "0  2023-04-02 16:35:46  \n",
       "1  2023-04-14 16:38:27  \n",
       "2  2023-01-21 11:21:31  \n",
       "3  2023-01-29 04:44:04  \n",
       "4  2023-05-24 03:30:23  "
      ]
     },
     "execution_count": 2,
     "metadata": {},
     "output_type": "execute_result"
    }
   ],
   "source": [
    "df = pd.read_csv(\"D:\\\\DATA SCIENCE\\\\Kaholas assignment\\\\purchase_data.csv\",encoding='latin-1')\n",
    "df.head()"
   ]
  },
  {
   "cell_type": "code",
   "execution_count": 3,
   "id": "fe71ff3a",
   "metadata": {},
   "outputs": [
    {
     "data": {
      "text/plain": [
       "(1000, 5)"
      ]
     },
     "execution_count": 3,
     "metadata": {},
     "output_type": "execute_result"
    }
   ],
   "source": [
    "df.shape"
   ]
  },
  {
   "cell_type": "code",
   "execution_count": 4,
   "id": "19f9dc9e",
   "metadata": {},
   "outputs": [
    {
     "data": {
      "text/html": [
       "<div>\n",
       "<style scoped>\n",
       "    .dataframe tbody tr th:only-of-type {\n",
       "        vertical-align: middle;\n",
       "    }\n",
       "\n",
       "    .dataframe tbody tr th {\n",
       "        vertical-align: top;\n",
       "    }\n",
       "\n",
       "    .dataframe thead th {\n",
       "        text-align: right;\n",
       "    }\n",
       "</style>\n",
       "<table border=\"1\" class=\"dataframe\">\n",
       "  <thead>\n",
       "    <tr style=\"text-align: right;\">\n",
       "      <th></th>\n",
       "      <th>Purchase_ID</th>\n",
       "      <th>User_ID</th>\n",
       "      <th>Product_ID</th>\n",
       "      <th>Transaction_Amount</th>\n",
       "      <th>Purchase_Time</th>\n",
       "    </tr>\n",
       "  </thead>\n",
       "  <tbody>\n",
       "    <tr>\n",
       "      <th>0</th>\n",
       "      <td>False</td>\n",
       "      <td>False</td>\n",
       "      <td>False</td>\n",
       "      <td>False</td>\n",
       "      <td>False</td>\n",
       "    </tr>\n",
       "    <tr>\n",
       "      <th>1</th>\n",
       "      <td>False</td>\n",
       "      <td>False</td>\n",
       "      <td>False</td>\n",
       "      <td>False</td>\n",
       "      <td>False</td>\n",
       "    </tr>\n",
       "    <tr>\n",
       "      <th>2</th>\n",
       "      <td>False</td>\n",
       "      <td>False</td>\n",
       "      <td>False</td>\n",
       "      <td>False</td>\n",
       "      <td>False</td>\n",
       "    </tr>\n",
       "    <tr>\n",
       "      <th>3</th>\n",
       "      <td>False</td>\n",
       "      <td>False</td>\n",
       "      <td>False</td>\n",
       "      <td>False</td>\n",
       "      <td>False</td>\n",
       "    </tr>\n",
       "    <tr>\n",
       "      <th>4</th>\n",
       "      <td>False</td>\n",
       "      <td>False</td>\n",
       "      <td>False</td>\n",
       "      <td>False</td>\n",
       "      <td>False</td>\n",
       "    </tr>\n",
       "    <tr>\n",
       "      <th>...</th>\n",
       "      <td>...</td>\n",
       "      <td>...</td>\n",
       "      <td>...</td>\n",
       "      <td>...</td>\n",
       "      <td>...</td>\n",
       "    </tr>\n",
       "    <tr>\n",
       "      <th>995</th>\n",
       "      <td>False</td>\n",
       "      <td>False</td>\n",
       "      <td>False</td>\n",
       "      <td>False</td>\n",
       "      <td>False</td>\n",
       "    </tr>\n",
       "    <tr>\n",
       "      <th>996</th>\n",
       "      <td>False</td>\n",
       "      <td>False</td>\n",
       "      <td>False</td>\n",
       "      <td>False</td>\n",
       "      <td>False</td>\n",
       "    </tr>\n",
       "    <tr>\n",
       "      <th>997</th>\n",
       "      <td>False</td>\n",
       "      <td>False</td>\n",
       "      <td>False</td>\n",
       "      <td>False</td>\n",
       "      <td>False</td>\n",
       "    </tr>\n",
       "    <tr>\n",
       "      <th>998</th>\n",
       "      <td>False</td>\n",
       "      <td>False</td>\n",
       "      <td>False</td>\n",
       "      <td>False</td>\n",
       "      <td>False</td>\n",
       "    </tr>\n",
       "    <tr>\n",
       "      <th>999</th>\n",
       "      <td>False</td>\n",
       "      <td>False</td>\n",
       "      <td>False</td>\n",
       "      <td>False</td>\n",
       "      <td>False</td>\n",
       "    </tr>\n",
       "  </tbody>\n",
       "</table>\n",
       "<p>1000 rows × 5 columns</p>\n",
       "</div>"
      ],
      "text/plain": [
       "     Purchase_ID  User_ID  Product_ID  Transaction_Amount  Purchase_Time\n",
       "0          False    False       False               False          False\n",
       "1          False    False       False               False          False\n",
       "2          False    False       False               False          False\n",
       "3          False    False       False               False          False\n",
       "4          False    False       False               False          False\n",
       "..           ...      ...         ...                 ...            ...\n",
       "995        False    False       False               False          False\n",
       "996        False    False       False               False          False\n",
       "997        False    False       False               False          False\n",
       "998        False    False       False               False          False\n",
       "999        False    False       False               False          False\n",
       "\n",
       "[1000 rows x 5 columns]"
      ]
     },
     "execution_count": 4,
     "metadata": {},
     "output_type": "execute_result"
    }
   ],
   "source": [
    "df.isnull()"
   ]
  },
  {
   "cell_type": "code",
   "execution_count": 5,
   "id": "65030d78",
   "metadata": {},
   "outputs": [
    {
     "data": {
      "text/plain": [
       "Purchase_ID           0\n",
       "User_ID               0\n",
       "Product_ID            0\n",
       "Transaction_Amount    0\n",
       "Purchase_Time         0\n",
       "dtype: int64"
      ]
     },
     "execution_count": 5,
     "metadata": {},
     "output_type": "execute_result"
    }
   ],
   "source": [
    "df.isnull().sum()"
   ]
  },
  {
   "cell_type": "code",
   "execution_count": 6,
   "id": "c879ec01",
   "metadata": {},
   "outputs": [
    {
     "data": {
      "text/plain": [
       "Purchase_ID           False\n",
       "User_ID               False\n",
       "Product_ID            False\n",
       "Transaction_Amount    False\n",
       "Purchase_Time         False\n",
       "dtype: bool"
      ]
     },
     "execution_count": 6,
     "metadata": {},
     "output_type": "execute_result"
    }
   ],
   "source": [
    "df.isnull().any()"
   ]
  },
  {
   "cell_type": "code",
   "execution_count": 7,
   "id": "958d6b9c",
   "metadata": {},
   "outputs": [
    {
     "name": "stdout",
     "output_type": "stream",
     "text": [
      "<class 'pandas.core.frame.DataFrame'>\n",
      "RangeIndex: 1000 entries, 0 to 999\n",
      "Data columns (total 5 columns):\n",
      " #   Column              Non-Null Count  Dtype  \n",
      "---  ------              --------------  -----  \n",
      " 0   Purchase_ID         1000 non-null   object \n",
      " 1   User_ID             1000 non-null   object \n",
      " 2   Product_ID          1000 non-null   object \n",
      " 3   Transaction_Amount  1000 non-null   float64\n",
      " 4   Purchase_Time       1000 non-null   object \n",
      "dtypes: float64(1), object(4)\n",
      "memory usage: 39.2+ KB\n"
     ]
    }
   ],
   "source": [
    "df.info()"
   ]
  },
  {
   "cell_type": "code",
   "execution_count": 8,
   "id": "44039b9e",
   "metadata": {},
   "outputs": [
    {
     "data": {
      "text/html": [
       "<div>\n",
       "<style scoped>\n",
       "    .dataframe tbody tr th:only-of-type {\n",
       "        vertical-align: middle;\n",
       "    }\n",
       "\n",
       "    .dataframe tbody tr th {\n",
       "        vertical-align: top;\n",
       "    }\n",
       "\n",
       "    .dataframe thead th {\n",
       "        text-align: right;\n",
       "    }\n",
       "</style>\n",
       "<table border=\"1\" class=\"dataframe\">\n",
       "  <thead>\n",
       "    <tr style=\"text-align: right;\">\n",
       "      <th></th>\n",
       "      <th>Transaction_Amount</th>\n",
       "    </tr>\n",
       "  </thead>\n",
       "  <tbody>\n",
       "    <tr>\n",
       "      <th>count</th>\n",
       "      <td>1000.000000</td>\n",
       "    </tr>\n",
       "    <tr>\n",
       "      <th>mean</th>\n",
       "      <td>106.348744</td>\n",
       "    </tr>\n",
       "    <tr>\n",
       "      <th>std</th>\n",
       "      <td>55.951244</td>\n",
       "    </tr>\n",
       "    <tr>\n",
       "      <th>min</th>\n",
       "      <td>10.429825</td>\n",
       "    </tr>\n",
       "    <tr>\n",
       "      <th>25%</th>\n",
       "      <td>58.426058</td>\n",
       "    </tr>\n",
       "    <tr>\n",
       "      <th>50%</th>\n",
       "      <td>102.950857</td>\n",
       "    </tr>\n",
       "    <tr>\n",
       "      <th>75%</th>\n",
       "      <td>157.533495</td>\n",
       "    </tr>\n",
       "    <tr>\n",
       "      <th>max</th>\n",
       "      <td>199.961345</td>\n",
       "    </tr>\n",
       "  </tbody>\n",
       "</table>\n",
       "</div>"
      ],
      "text/plain": [
       "       Transaction_Amount\n",
       "count         1000.000000\n",
       "mean           106.348744\n",
       "std             55.951244\n",
       "min             10.429825\n",
       "25%             58.426058\n",
       "50%            102.950857\n",
       "75%            157.533495\n",
       "max            199.961345"
      ]
     },
     "execution_count": 8,
     "metadata": {},
     "output_type": "execute_result"
    }
   ],
   "source": [
    "df.describe()"
   ]
  },
  {
   "cell_type": "code",
   "execution_count": 9,
   "id": "512986ba",
   "metadata": {},
   "outputs": [
    {
     "data": {
      "text/html": [
       "<div>\n",
       "<style scoped>\n",
       "    .dataframe tbody tr th:only-of-type {\n",
       "        vertical-align: middle;\n",
       "    }\n",
       "\n",
       "    .dataframe tbody tr th {\n",
       "        vertical-align: top;\n",
       "    }\n",
       "\n",
       "    .dataframe thead th {\n",
       "        text-align: right;\n",
       "    }\n",
       "</style>\n",
       "<table border=\"1\" class=\"dataframe\">\n",
       "  <thead>\n",
       "    <tr style=\"text-align: right;\">\n",
       "      <th></th>\n",
       "      <th>Purchase_ID</th>\n",
       "      <th>User_ID</th>\n",
       "      <th>Product_ID</th>\n",
       "      <th>Transaction_Amount</th>\n",
       "      <th>Purchase_Time</th>\n",
       "    </tr>\n",
       "  </thead>\n",
       "  <tbody>\n",
       "    <tr>\n",
       "      <th>0</th>\n",
       "      <td>Purchase_948</td>\n",
       "      <td>User_3840</td>\n",
       "      <td>Product_19</td>\n",
       "      <td>62.843031</td>\n",
       "      <td>2023-04-02 16:35:46</td>\n",
       "    </tr>\n",
       "    <tr>\n",
       "      <th>1</th>\n",
       "      <td>Purchase_905</td>\n",
       "      <td>User_1846</td>\n",
       "      <td>Product_9</td>\n",
       "      <td>21.780079</td>\n",
       "      <td>2023-04-14 16:38:27</td>\n",
       "    </tr>\n",
       "    <tr>\n",
       "      <th>2</th>\n",
       "      <td>Purchase_704</td>\n",
       "      <td>User_1700</td>\n",
       "      <td>Product_8</td>\n",
       "      <td>138.264455</td>\n",
       "      <td>2023-01-21 11:21:31</td>\n",
       "    </tr>\n",
       "    <tr>\n",
       "      <th>3</th>\n",
       "      <td>Purchase_766</td>\n",
       "      <td>User_4117</td>\n",
       "      <td>Product_15</td>\n",
       "      <td>74.991367</td>\n",
       "      <td>2023-01-29 04:44:04</td>\n",
       "    </tr>\n",
       "    <tr>\n",
       "      <th>4</th>\n",
       "      <td>Purchase_36</td>\n",
       "      <td>User_3053</td>\n",
       "      <td>Product_7</td>\n",
       "      <td>162.569998</td>\n",
       "      <td>2023-05-24 03:30:23</td>\n",
       "    </tr>\n",
       "  </tbody>\n",
       "</table>\n",
       "</div>"
      ],
      "text/plain": [
       "    Purchase_ID    User_ID  Product_ID  Transaction_Amount  \\\n",
       "0  Purchase_948  User_3840  Product_19           62.843031   \n",
       "1  Purchase_905  User_1846   Product_9           21.780079   \n",
       "2  Purchase_704  User_1700   Product_8          138.264455   \n",
       "3  Purchase_766  User_4117  Product_15           74.991367   \n",
       "4   Purchase_36  User_3053   Product_7          162.569998   \n",
       "\n",
       "         Purchase_Time  \n",
       "0  2023-04-02 16:35:46  \n",
       "1  2023-04-14 16:38:27  \n",
       "2  2023-01-21 11:21:31  \n",
       "3  2023-01-29 04:44:04  \n",
       "4  2023-05-24 03:30:23  "
      ]
     },
     "execution_count": 9,
     "metadata": {},
     "output_type": "execute_result"
    }
   ],
   "source": [
    "df.head()"
   ]
  },
  {
   "cell_type": "code",
   "execution_count": null,
   "id": "1e77a31f",
   "metadata": {},
   "outputs": [],
   "source": []
  },
  {
   "cell_type": "code",
   "execution_count": 10,
   "id": "c4ff620b",
   "metadata": {},
   "outputs": [],
   "source": [
    "# Calculate the total number of visits or interactions\n",
    "total_interactions = df.shape[0]"
   ]
  },
  {
   "cell_type": "code",
   "execution_count": 11,
   "id": "28cc76d2",
   "metadata": {},
   "outputs": [
    {
     "data": {
      "text/plain": [
       "1000"
      ]
     },
     "execution_count": 11,
     "metadata": {},
     "output_type": "execute_result"
    }
   ],
   "source": [
    "total_interactions"
   ]
  },
  {
   "cell_type": "code",
   "execution_count": 12,
   "id": "aae42d7b",
   "metadata": {},
   "outputs": [],
   "source": [
    "# Calculate the number of successful purchases\n",
    "successful_purchases = df[df['Transaction_Amount'] > 0].shape[0]"
   ]
  },
  {
   "cell_type": "code",
   "execution_count": 13,
   "id": "6ee54ed5",
   "metadata": {},
   "outputs": [
    {
     "data": {
      "text/plain": [
       "1000"
      ]
     },
     "execution_count": 13,
     "metadata": {},
     "output_type": "execute_result"
    }
   ],
   "source": [
    "successful_purchases"
   ]
  },
  {
   "cell_type": "code",
   "execution_count": 14,
   "id": "8f0911b5",
   "metadata": {},
   "outputs": [],
   "source": [
    "# Calculate the overall conversion rate\n",
    "conversion_rate = successful_purchases / total_interactions"
   ]
  },
  {
   "cell_type": "code",
   "execution_count": 15,
   "id": "5f0202ba",
   "metadata": {},
   "outputs": [
    {
     "data": {
      "text/plain": [
       "1.0"
      ]
     },
     "execution_count": 15,
     "metadata": {},
     "output_type": "execute_result"
    }
   ],
   "source": [
    "conversion_rate"
   ]
  },
  {
   "cell_type": "code",
   "execution_count": 16,
   "id": "6791608e",
   "metadata": {},
   "outputs": [
    {
     "name": "stdout",
     "output_type": "stream",
     "text": [
      "Overall Conversion Rate: 100.00%\n"
     ]
    }
   ],
   "source": [
    "# Display the overall conversion rate\n",
    "print(\"Overall Conversion Rate: {:.2%}\".format(conversion_rate))"
   ]
  },
  {
   "cell_type": "code",
   "execution_count": 17,
   "id": "a4f82500",
   "metadata": {},
   "outputs": [
    {
     "data": {
      "text/html": [
       "<div>\n",
       "<style scoped>\n",
       "    .dataframe tbody tr th:only-of-type {\n",
       "        vertical-align: middle;\n",
       "    }\n",
       "\n",
       "    .dataframe tbody tr th {\n",
       "        vertical-align: top;\n",
       "    }\n",
       "\n",
       "    .dataframe thead th {\n",
       "        text-align: right;\n",
       "    }\n",
       "</style>\n",
       "<table border=\"1\" class=\"dataframe\">\n",
       "  <thead>\n",
       "    <tr style=\"text-align: right;\">\n",
       "      <th></th>\n",
       "      <th>Purchase_ID</th>\n",
       "      <th>User_ID</th>\n",
       "      <th>Product_ID</th>\n",
       "      <th>Transaction_Amount</th>\n",
       "      <th>Purchase_Time</th>\n",
       "    </tr>\n",
       "  </thead>\n",
       "  <tbody>\n",
       "    <tr>\n",
       "      <th>0</th>\n",
       "      <td>Purchase_948</td>\n",
       "      <td>User_3840</td>\n",
       "      <td>Product_19</td>\n",
       "      <td>62.843031</td>\n",
       "      <td>2023-04-02 16:35:46</td>\n",
       "    </tr>\n",
       "    <tr>\n",
       "      <th>1</th>\n",
       "      <td>Purchase_905</td>\n",
       "      <td>User_1846</td>\n",
       "      <td>Product_9</td>\n",
       "      <td>21.780079</td>\n",
       "      <td>2023-04-14 16:38:27</td>\n",
       "    </tr>\n",
       "    <tr>\n",
       "      <th>2</th>\n",
       "      <td>Purchase_704</td>\n",
       "      <td>User_1700</td>\n",
       "      <td>Product_8</td>\n",
       "      <td>138.264455</td>\n",
       "      <td>2023-01-21 11:21:31</td>\n",
       "    </tr>\n",
       "    <tr>\n",
       "      <th>3</th>\n",
       "      <td>Purchase_766</td>\n",
       "      <td>User_4117</td>\n",
       "      <td>Product_15</td>\n",
       "      <td>74.991367</td>\n",
       "      <td>2023-01-29 04:44:04</td>\n",
       "    </tr>\n",
       "    <tr>\n",
       "      <th>4</th>\n",
       "      <td>Purchase_36</td>\n",
       "      <td>User_3053</td>\n",
       "      <td>Product_7</td>\n",
       "      <td>162.569998</td>\n",
       "      <td>2023-05-24 03:30:23</td>\n",
       "    </tr>\n",
       "  </tbody>\n",
       "</table>\n",
       "</div>"
      ],
      "text/plain": [
       "    Purchase_ID    User_ID  Product_ID  Transaction_Amount  \\\n",
       "0  Purchase_948  User_3840  Product_19           62.843031   \n",
       "1  Purchase_905  User_1846   Product_9           21.780079   \n",
       "2  Purchase_704  User_1700   Product_8          138.264455   \n",
       "3  Purchase_766  User_4117  Product_15           74.991367   \n",
       "4   Purchase_36  User_3053   Product_7          162.569998   \n",
       "\n",
       "         Purchase_Time  \n",
       "0  2023-04-02 16:35:46  \n",
       "1  2023-04-14 16:38:27  \n",
       "2  2023-01-21 11:21:31  \n",
       "3  2023-01-29 04:44:04  \n",
       "4  2023-05-24 03:30:23  "
      ]
     },
     "execution_count": 17,
     "metadata": {},
     "output_type": "execute_result"
    }
   ],
   "source": [
    "df.head()"
   ]
  },
  {
   "cell_type": "code",
   "execution_count": null,
   "id": "fecfffa2",
   "metadata": {},
   "outputs": [],
   "source": []
  },
  {
   "cell_type": "code",
   "execution_count": 18,
   "id": "52f6a2d9",
   "metadata": {},
   "outputs": [],
   "source": [
    "# Calculate the top-selling products\n",
    "top_selling_products = df.groupby('Product_ID')['Transaction_Amount'].sum().nlargest(10)\n"
   ]
  },
  {
   "cell_type": "code",
   "execution_count": 19,
   "id": "24045855",
   "metadata": {},
   "outputs": [
    {
     "data": {
      "text/plain": [
       "Product_ID\n",
       "Product_19    7125.056901\n",
       "Product_17    6711.316153\n",
       "Product_13    6680.243756\n",
       "Product_3     6375.983900\n",
       "Product_20    6359.302691\n",
       "Product_8     5780.766674\n",
       "Product_5     5697.714155\n",
       "Product_4     5581.543749\n",
       "Product_7     5369.148281\n",
       "Product_12    5363.519340\n",
       "Name: Transaction_Amount, dtype: float64"
      ]
     },
     "execution_count": 19,
     "metadata": {},
     "output_type": "execute_result"
    }
   ],
   "source": [
    "top_selling_products "
   ]
  },
  {
   "cell_type": "code",
   "execution_count": 20,
   "id": "eee95059",
   "metadata": {},
   "outputs": [],
   "source": [
    "# Calculate the top-selling product categories\n",
    "product_data = df.groupby('Product_ID').first()  # Assuming 'Product_ID' uniquely represents a product\n"
   ]
  },
  {
   "cell_type": "code",
   "execution_count": 21,
   "id": "8de74db4",
   "metadata": {},
   "outputs": [
    {
     "data": {
      "text/html": [
       "<div>\n",
       "<style scoped>\n",
       "    .dataframe tbody tr th:only-of-type {\n",
       "        vertical-align: middle;\n",
       "    }\n",
       "\n",
       "    .dataframe tbody tr th {\n",
       "        vertical-align: top;\n",
       "    }\n",
       "\n",
       "    .dataframe thead th {\n",
       "        text-align: right;\n",
       "    }\n",
       "</style>\n",
       "<table border=\"1\" class=\"dataframe\">\n",
       "  <thead>\n",
       "    <tr style=\"text-align: right;\">\n",
       "      <th></th>\n",
       "      <th>Purchase_ID</th>\n",
       "      <th>User_ID</th>\n",
       "      <th>Transaction_Amount</th>\n",
       "      <th>Purchase_Time</th>\n",
       "    </tr>\n",
       "    <tr>\n",
       "      <th>Product_ID</th>\n",
       "      <th></th>\n",
       "      <th></th>\n",
       "      <th></th>\n",
       "      <th></th>\n",
       "    </tr>\n",
       "  </thead>\n",
       "  <tbody>\n",
       "    <tr>\n",
       "      <th>Product_1</th>\n",
       "      <td>Purchase_36</td>\n",
       "      <td>User_2129</td>\n",
       "      <td>156.652541</td>\n",
       "      <td>2023-02-22 09:06:30</td>\n",
       "    </tr>\n",
       "    <tr>\n",
       "      <th>Product_10</th>\n",
       "      <td>Purchase_53</td>\n",
       "      <td>User_62</td>\n",
       "      <td>27.214051</td>\n",
       "      <td>2023-03-23 02:06:05</td>\n",
       "    </tr>\n",
       "    <tr>\n",
       "      <th>Product_11</th>\n",
       "      <td>Purchase_613</td>\n",
       "      <td>User_691</td>\n",
       "      <td>104.729904</td>\n",
       "      <td>2023-06-19 08:35:13</td>\n",
       "    </tr>\n",
       "    <tr>\n",
       "      <th>Product_12</th>\n",
       "      <td>Purchase_599</td>\n",
       "      <td>User_3228</td>\n",
       "      <td>46.880509</td>\n",
       "      <td>2023-03-22 01:31:48</td>\n",
       "    </tr>\n",
       "    <tr>\n",
       "      <th>Product_13</th>\n",
       "      <td>Purchase_947</td>\n",
       "      <td>User_2178</td>\n",
       "      <td>121.514207</td>\n",
       "      <td>2023-04-19 23:01:15</td>\n",
       "    </tr>\n",
       "  </tbody>\n",
       "</table>\n",
       "</div>"
      ],
      "text/plain": [
       "             Purchase_ID    User_ID  Transaction_Amount        Purchase_Time\n",
       "Product_ID                                                                  \n",
       "Product_1    Purchase_36  User_2129          156.652541  2023-02-22 09:06:30\n",
       "Product_10   Purchase_53    User_62           27.214051  2023-03-23 02:06:05\n",
       "Product_11  Purchase_613   User_691          104.729904  2023-06-19 08:35:13\n",
       "Product_12  Purchase_599  User_3228           46.880509  2023-03-22 01:31:48\n",
       "Product_13  Purchase_947  User_2178          121.514207  2023-04-19 23:01:15"
      ]
     },
     "execution_count": 21,
     "metadata": {},
     "output_type": "execute_result"
    }
   ],
   "source": [
    "product_data.head()"
   ]
  },
  {
   "cell_type": "code",
   "execution_count": 22,
   "id": "4c945190",
   "metadata": {},
   "outputs": [],
   "source": [
    "top_selling_categories = product_data.groupby('Product_ID')['Transaction_Amount'].sum().nlargest(5)\n"
   ]
  },
  {
   "cell_type": "code",
   "execution_count": 23,
   "id": "074ca54c",
   "metadata": {},
   "outputs": [
    {
     "data": {
      "text/plain": [
       "Product_ID\n",
       "Product_18    181.501507\n",
       "Product_2     164.012789\n",
       "Product_4     163.417772\n",
       "Product_7     162.569998\n",
       "Product_1     156.652541\n",
       "Name: Transaction_Amount, dtype: float64"
      ]
     },
     "execution_count": 23,
     "metadata": {},
     "output_type": "execute_result"
    }
   ],
   "source": [
    "top_selling_categories"
   ]
  },
  {
   "cell_type": "code",
   "execution_count": 24,
   "id": "368da4da",
   "metadata": {},
   "outputs": [
    {
     "name": "stdout",
     "output_type": "stream",
     "text": [
      "Top-Selling Products:\n",
      "Product_ID\n",
      "Product_19    7125.056901\n",
      "Product_17    6711.316153\n",
      "Product_13    6680.243756\n",
      "Product_3     6375.983900\n",
      "Product_20    6359.302691\n",
      "Product_8     5780.766674\n",
      "Product_5     5697.714155\n",
      "Product_4     5581.543749\n",
      "Product_7     5369.148281\n",
      "Product_12    5363.519340\n",
      "Name: Transaction_Amount, dtype: float64\n"
     ]
    }
   ],
   "source": [
    "# Display the top-selling products and product categories\n",
    "print(\"Top-Selling Products:\")\n",
    "print(top_selling_products)"
   ]
  },
  {
   "cell_type": "code",
   "execution_count": 25,
   "id": "2fef1c21",
   "metadata": {},
   "outputs": [
    {
     "name": "stdout",
     "output_type": "stream",
     "text": [
      "\n",
      "Top-Selling Product Categories:\n",
      "Product_ID\n",
      "Product_18    181.501507\n",
      "Product_2     164.012789\n",
      "Product_4     163.417772\n",
      "Product_7     162.569998\n",
      "Product_1     156.652541\n",
      "Name: Transaction_Amount, dtype: float64\n"
     ]
    }
   ],
   "source": [
    "print(\"\\nTop-Selling Product Categories:\")\n",
    "print(top_selling_categories)"
   ]
  },
  {
   "cell_type": "code",
   "execution_count": null,
   "id": "a3473d3f",
   "metadata": {},
   "outputs": [],
   "source": []
  },
  {
   "cell_type": "code",
   "execution_count": 26,
   "id": "aaaeebb4",
   "metadata": {},
   "outputs": [],
   "source": [
    "# Calculate the number of interactions for each user\n",
    "interactions_per_user = df['User_ID'].value_counts()\n"
   ]
  },
  {
   "cell_type": "code",
   "execution_count": 27,
   "id": "86f68ec1",
   "metadata": {},
   "outputs": [
    {
     "data": {
      "text/plain": [
       "User_556     3\n",
       "User_1700    3\n",
       "User_4872    3\n",
       "User_1277    3\n",
       "User_1075    3\n",
       "            ..\n",
       "User_3719    1\n",
       "User_733     1\n",
       "User_1462    1\n",
       "User_1922    1\n",
       "User_3364    1\n",
       "Name: User_ID, Length: 916, dtype: int64"
      ]
     },
     "execution_count": 27,
     "metadata": {},
     "output_type": "execute_result"
    }
   ],
   "source": [
    "interactions_per_user"
   ]
  },
  {
   "cell_type": "code",
   "execution_count": 28,
   "id": "cd760656",
   "metadata": {},
   "outputs": [],
   "source": [
    "# Filter the dataset to include only successful purchases\n",
    "successful_purchases = df[df['Transaction_Amount'] > 0]"
   ]
  },
  {
   "cell_type": "code",
   "execution_count": 29,
   "id": "52cfd7ac",
   "metadata": {},
   "outputs": [
    {
     "data": {
      "text/html": [
       "<div>\n",
       "<style scoped>\n",
       "    .dataframe tbody tr th:only-of-type {\n",
       "        vertical-align: middle;\n",
       "    }\n",
       "\n",
       "    .dataframe tbody tr th {\n",
       "        vertical-align: top;\n",
       "    }\n",
       "\n",
       "    .dataframe thead th {\n",
       "        text-align: right;\n",
       "    }\n",
       "</style>\n",
       "<table border=\"1\" class=\"dataframe\">\n",
       "  <thead>\n",
       "    <tr style=\"text-align: right;\">\n",
       "      <th></th>\n",
       "      <th>Purchase_ID</th>\n",
       "      <th>User_ID</th>\n",
       "      <th>Product_ID</th>\n",
       "      <th>Transaction_Amount</th>\n",
       "      <th>Purchase_Time</th>\n",
       "    </tr>\n",
       "  </thead>\n",
       "  <tbody>\n",
       "    <tr>\n",
       "      <th>0</th>\n",
       "      <td>Purchase_948</td>\n",
       "      <td>User_3840</td>\n",
       "      <td>Product_19</td>\n",
       "      <td>62.843031</td>\n",
       "      <td>2023-04-02 16:35:46</td>\n",
       "    </tr>\n",
       "    <tr>\n",
       "      <th>1</th>\n",
       "      <td>Purchase_905</td>\n",
       "      <td>User_1846</td>\n",
       "      <td>Product_9</td>\n",
       "      <td>21.780079</td>\n",
       "      <td>2023-04-14 16:38:27</td>\n",
       "    </tr>\n",
       "    <tr>\n",
       "      <th>2</th>\n",
       "      <td>Purchase_704</td>\n",
       "      <td>User_1700</td>\n",
       "      <td>Product_8</td>\n",
       "      <td>138.264455</td>\n",
       "      <td>2023-01-21 11:21:31</td>\n",
       "    </tr>\n",
       "    <tr>\n",
       "      <th>3</th>\n",
       "      <td>Purchase_766</td>\n",
       "      <td>User_4117</td>\n",
       "      <td>Product_15</td>\n",
       "      <td>74.991367</td>\n",
       "      <td>2023-01-29 04:44:04</td>\n",
       "    </tr>\n",
       "    <tr>\n",
       "      <th>4</th>\n",
       "      <td>Purchase_36</td>\n",
       "      <td>User_3053</td>\n",
       "      <td>Product_7</td>\n",
       "      <td>162.569998</td>\n",
       "      <td>2023-05-24 03:30:23</td>\n",
       "    </tr>\n",
       "  </tbody>\n",
       "</table>\n",
       "</div>"
      ],
      "text/plain": [
       "    Purchase_ID    User_ID  Product_ID  Transaction_Amount  \\\n",
       "0  Purchase_948  User_3840  Product_19           62.843031   \n",
       "1  Purchase_905  User_1846   Product_9           21.780079   \n",
       "2  Purchase_704  User_1700   Product_8          138.264455   \n",
       "3  Purchase_766  User_4117  Product_15           74.991367   \n",
       "4   Purchase_36  User_3053   Product_7          162.569998   \n",
       "\n",
       "         Purchase_Time  \n",
       "0  2023-04-02 16:35:46  \n",
       "1  2023-04-14 16:38:27  \n",
       "2  2023-01-21 11:21:31  \n",
       "3  2023-01-29 04:44:04  \n",
       "4  2023-05-24 03:30:23  "
      ]
     },
     "execution_count": 29,
     "metadata": {},
     "output_type": "execute_result"
    }
   ],
   "source": [
    "successful_purchases.head()"
   ]
  },
  {
   "cell_type": "code",
   "execution_count": 30,
   "id": "90ef519c",
   "metadata": {},
   "outputs": [],
   "source": [
    "# Calculate the number of interactions for users who made a purchase\n",
    "interactions_per_user_purchased = successful_purchases['User_ID'].value_counts()\n"
   ]
  },
  {
   "cell_type": "code",
   "execution_count": 31,
   "id": "418aeb8f",
   "metadata": {},
   "outputs": [
    {
     "data": {
      "text/plain": [
       "User_556     3\n",
       "User_1700    3\n",
       "User_4872    3\n",
       "User_1277    3\n",
       "User_1075    3\n",
       "            ..\n",
       "User_3719    1\n",
       "User_733     1\n",
       "User_1462    1\n",
       "User_1922    1\n",
       "User_3364    1\n",
       "Name: User_ID, Length: 916, dtype: int64"
      ]
     },
     "execution_count": 31,
     "metadata": {},
     "output_type": "execute_result"
    }
   ],
   "source": [
    "interactions_per_user_purchased"
   ]
  },
  {
   "cell_type": "code",
   "execution_count": 32,
   "id": "28d3f5c2",
   "metadata": {},
   "outputs": [],
   "source": [
    "# Calculate the likelihood of a purchase based on the number of interactions\n",
    "likelihood_of_purchase = interactions_per_user_purchased / interactions_per_user\n"
   ]
  },
  {
   "cell_type": "code",
   "execution_count": 33,
   "id": "2c2f4446",
   "metadata": {},
   "outputs": [
    {
     "data": {
      "text/plain": [
       "User_556     1.0\n",
       "User_1700    1.0\n",
       "User_4872    1.0\n",
       "User_1277    1.0\n",
       "User_1075    1.0\n",
       "            ... \n",
       "User_3719    1.0\n",
       "User_733     1.0\n",
       "User_1462    1.0\n",
       "User_1922    1.0\n",
       "User_3364    1.0\n",
       "Name: User_ID, Length: 916, dtype: float64"
      ]
     },
     "execution_count": 33,
     "metadata": {},
     "output_type": "execute_result"
    }
   ],
   "source": [
    "likelihood_of_purchase"
   ]
  },
  {
   "cell_type": "code",
   "execution_count": 34,
   "id": "e7a4253b",
   "metadata": {},
   "outputs": [
    {
     "data": {
      "image/png": "[encoded data removed]",
      "text/plain": [
       "<Figure size 1000x600 with 1 Axes>"
      ]
     },
     "metadata": {},
     "output_type": "display_data"
    }
   ],
   "source": [
    "# Plot the relationship between interactions and the likelihood of a purchase\n",
    "plt.figure(figsize=(10, 6))\n",
    "sns.scatterplot(x=interactions_per_user, y=likelihood_of_purchase, alpha=0.6)\n",
    "plt.title('Relationship between Interactions and Likelihood of Purchase')\n",
    "plt.xlabel('Number of Interactions')\n",
    "plt.ylabel('Likelihood of Purchase')\n",
    "plt.show()"
   ]
  },
  {
   "cell_type": "code",
   "execution_count": null,
   "id": "12bef54e",
   "metadata": {},
   "outputs": [],
   "source": []
  },
  {
   "cell_type": "code",
   "execution_count": 35,
   "id": "057d4b13",
   "metadata": {},
   "outputs": [
    {
     "data": {
      "text/html": [
       "<div>\n",
       "<style scoped>\n",
       "    .dataframe tbody tr th:only-of-type {\n",
       "        vertical-align: middle;\n",
       "    }\n",
       "\n",
       "    .dataframe tbody tr th {\n",
       "        vertical-align: top;\n",
       "    }\n",
       "\n",
       "    .dataframe thead th {\n",
       "        text-align: right;\n",
       "    }\n",
       "</style>\n",
       "<table border=\"1\" class=\"dataframe\">\n",
       "  <thead>\n",
       "    <tr style=\"text-align: right;\">\n",
       "      <th></th>\n",
       "      <th>Purchase_ID</th>\n",
       "      <th>User_ID</th>\n",
       "      <th>Product_ID</th>\n",
       "      <th>Transaction_Amount</th>\n",
       "      <th>Purchase_Time</th>\n",
       "    </tr>\n",
       "  </thead>\n",
       "  <tbody>\n",
       "    <tr>\n",
       "      <th>0</th>\n",
       "      <td>Purchase_948</td>\n",
       "      <td>User_3840</td>\n",
       "      <td>Product_19</td>\n",
       "      <td>62.843031</td>\n",
       "      <td>2023-04-02 16:35:46</td>\n",
       "    </tr>\n",
       "    <tr>\n",
       "      <th>1</th>\n",
       "      <td>Purchase_905</td>\n",
       "      <td>User_1846</td>\n",
       "      <td>Product_9</td>\n",
       "      <td>21.780079</td>\n",
       "      <td>2023-04-14 16:38:27</td>\n",
       "    </tr>\n",
       "    <tr>\n",
       "      <th>2</th>\n",
       "      <td>Purchase_704</td>\n",
       "      <td>User_1700</td>\n",
       "      <td>Product_8</td>\n",
       "      <td>138.264455</td>\n",
       "      <td>2023-01-21 11:21:31</td>\n",
       "    </tr>\n",
       "    <tr>\n",
       "      <th>3</th>\n",
       "      <td>Purchase_766</td>\n",
       "      <td>User_4117</td>\n",
       "      <td>Product_15</td>\n",
       "      <td>74.991367</td>\n",
       "      <td>2023-01-29 04:44:04</td>\n",
       "    </tr>\n",
       "    <tr>\n",
       "      <th>4</th>\n",
       "      <td>Purchase_36</td>\n",
       "      <td>User_3053</td>\n",
       "      <td>Product_7</td>\n",
       "      <td>162.569998</td>\n",
       "      <td>2023-05-24 03:30:23</td>\n",
       "    </tr>\n",
       "  </tbody>\n",
       "</table>\n",
       "</div>"
      ],
      "text/plain": [
       "    Purchase_ID    User_ID  Product_ID  Transaction_Amount  \\\n",
       "0  Purchase_948  User_3840  Product_19           62.843031   \n",
       "1  Purchase_905  User_1846   Product_9           21.780079   \n",
       "2  Purchase_704  User_1700   Product_8          138.264455   \n",
       "3  Purchase_766  User_4117  Product_15           74.991367   \n",
       "4   Purchase_36  User_3053   Product_7          162.569998   \n",
       "\n",
       "         Purchase_Time  \n",
       "0  2023-04-02 16:35:46  \n",
       "1  2023-04-14 16:38:27  \n",
       "2  2023-01-21 11:21:31  \n",
       "3  2023-01-29 04:44:04  \n",
       "4  2023-05-24 03:30:23  "
      ]
     },
     "execution_count": 35,
     "metadata": {},
     "output_type": "execute_result"
    }
   ],
   "source": [
    "df.head()"
   ]
  },
  {
   "cell_type": "code",
   "execution_count": null,
   "id": "3a2e0253",
   "metadata": {},
   "outputs": [],
   "source": []
  },
  {
   "cell_type": "code",
   "execution_count": 54,
   "id": "e29d8c66",
   "metadata": {},
   "outputs": [],
   "source": [
    "# Convert the \"Purchase_Time\" column to datetime\n",
    "df['Purchase_Time'] = pd.to_datetime(df['Purchase_Time'])\n"
   ]
  },
  {
   "cell_type": "code",
   "execution_count": 55,
   "id": "33c22630",
   "metadata": {},
   "outputs": [
    {
     "data": {
      "text/plain": [
       "0     2023-04-02 16:35:46\n",
       "1     2023-04-14 16:38:27\n",
       "2     2023-01-21 11:21:31\n",
       "3     2023-01-29 04:44:04\n",
       "4     2023-05-24 03:30:23\n",
       "              ...        \n",
       "995   2023-04-10 17:38:54\n",
       "996   2023-02-19 15:05:57\n",
       "997   2023-07-14 23:15:18\n",
       "998   2023-03-03 15:37:35\n",
       "999   2023-02-18 17:47:48\n",
       "Name: Purchase_Time, Length: 1000, dtype: datetime64[ns]"
      ]
     },
     "execution_count": 55,
     "metadata": {},
     "output_type": "execute_result"
    }
   ],
   "source": [
    "df['Purchase_Time']"
   ]
  },
  {
   "cell_type": "code",
   "execution_count": 56,
   "id": "815d371c",
   "metadata": {},
   "outputs": [],
   "source": [
    "# Calculate the total transaction amount for each user\n",
    "total_transaction_amount = df.groupby('User_ID')['Transaction_Amount'].sum()\n"
   ]
  },
  {
   "cell_type": "code",
   "execution_count": 57,
   "id": "573cba53",
   "metadata": {},
   "outputs": [
    {
     "data": {
      "text/plain": [
       "User_ID\n",
       "2        53.694989\n",
       "3       184.153247\n",
       "32       45.552579\n",
       "35      197.985369\n",
       "37       61.549329\n",
       "           ...    \n",
       "4981    158.496550\n",
       "4989    192.499949\n",
       "4993     58.427015\n",
       "4995     20.836426\n",
       "4999     47.968517\n",
       "Name: Transaction_Amount, Length: 916, dtype: float64"
      ]
     },
     "execution_count": 57,
     "metadata": {},
     "output_type": "execute_result"
    }
   ],
   "source": [
    "total_transaction_amount"
   ]
  },
  {
   "cell_type": "code",
   "execution_count": 58,
   "id": "c24df2b7",
   "metadata": {},
   "outputs": [],
   "source": [
    "# Calculate the number of unique users acquired during different time periods\n",
    "users_acquired_per_period = df.groupby(df['Purchase_Time'].dt.to_period('M'))['User_ID'].nunique()\n"
   ]
  },
  {
   "cell_type": "code",
   "execution_count": 59,
   "id": "967cb54a",
   "metadata": {},
   "outputs": [
    {
     "data": {
      "text/plain": [
       "Purchase_Time\n",
       "2023-01    152\n",
       "2023-02    129\n",
       "2023-03    152\n",
       "2023-04    144\n",
       "2023-05    135\n",
       "2023-06    137\n",
       "2023-07    133\n",
       "Freq: M, Name: User_ID, dtype: int64"
      ]
     },
     "execution_count": 59,
     "metadata": {},
     "output_type": "execute_result"
    }
   ],
   "source": [
    "users_acquired_per_period"
   ]
  },
  {
   "cell_type": "code",
   "execution_count": 60,
   "id": "cea3dcb5",
   "metadata": {},
   "outputs": [],
   "source": [
    "# Calculate the LTV for each time period\n",
    "ltv_per_period = total_transaction_amount / users_acquired_per_period"
   ]
  },
  {
   "cell_type": "code",
   "execution_count": 61,
   "id": "fa0e9a19",
   "metadata": {},
   "outputs": [],
   "source": [
    "# Use the 'where' method to handle zero values in users_acquired_per_period\n",
    "ltv_per_period = ltv_per_period.where(users_acquired_per_period != 0, 0)"
   ]
  },
  {
   "cell_type": "code",
   "execution_count": 62,
   "id": "e9150848",
   "metadata": {},
   "outputs": [
    {
     "name": "stdout",
     "output_type": "stream",
     "text": [
      "Lifetime Value (LTV) per Time Period:\n",
      "2          0.0\n",
      "3          0.0\n",
      "32         0.0\n",
      "35         0.0\n",
      "37         0.0\n",
      "          ... \n",
      "2023-03    NaN\n",
      "2023-04    NaN\n",
      "2023-05    NaN\n",
      "2023-06    NaN\n",
      "2023-07    NaN\n",
      "Length: 923, dtype: float64\n"
     ]
    }
   ],
   "source": [
    "# Display the LTV for each time period\n",
    "print(\"Lifetime Value (LTV) per Time Period:\")\n",
    "print(ltv_per_period)"
   ]
  },
  {
   "cell_type": "code",
   "execution_count": null,
   "id": "8c668191",
   "metadata": {},
   "outputs": [],
   "source": []
  }
 ],
 "metadata": {
  "kernelspec": {
   "display_name": "Python 3 (ipykernel)",
   "language": "python",
   "name": "python3"
  },
  "language_info": {
   "codemirror_mode": {
    "name": "ipython",
    "version": 3
   },
   "file_extension": ".py",
   "mimetype": "text/x-python",
   "name": "python",
   "nbconvert_exporter": "python",
   "pygments_lexer": "ipython3",
   "version": "3.9.13"
  }
 },
 "nbformat": 4,
 "nbformat_minor": 5
}
