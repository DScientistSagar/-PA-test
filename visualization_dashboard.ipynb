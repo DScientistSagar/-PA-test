{
 "cells": [
  {
   "cell_type": "markdown",
   "id": "b5680270",
   "metadata": {},
   "source": [
    "##visualization dashboard"
   ]
  },
  {
   "cell_type": "code",
   "execution_count": 4,
   "id": "8a5383ef",
   "metadata": {},
   "outputs": [],
   "source": [
    "import dash\n",
    "import dash_core_components as dcc\n",
    "import dash_html_components as html\n",
    "import plotly.graph_objs as go\n",
    "from dash.dependencies import Input, Output\n"
   ]
  },
  {
   "cell_type": "code",
   "execution_count": 5,
   "id": "6d8e8ab6",
   "metadata": {},
   "outputs": [],
   "source": [
    "# website performance metrics \n",
    "average_page_load_time = 5.866266048900847\n",
    "average_bounce_rate = 0.4526503154628032\n",
    "average_conversion_rate = 0.06005589709726499\n",
    "highest_bounce_rate_month = 10\n",
    "highest_conversion_rate_month = 5"
   ]
  },
  {
   "cell_type": "code",
   "execution_count": 6,
   "id": "aa34042e",
   "metadata": {},
   "outputs": [],
   "source": [
    "# Initialize Dash app\n",
    "app = dash.Dash(__name__)\n"
   ]
  },
  {
   "cell_type": "code",
   "execution_count": 7,
   "id": "0b8bcdf1",
   "metadata": {},
   "outputs": [
    {
     "data": {
      "text/html": [
       "\n",
       "        <iframe\n",
       "            width=\"100%\"\n",
       "            height=\"650\"\n",
       "            src=\"http://127.0.0.1:8050/\"\n",
       "            frameborder=\"0\"\n",
       "            allowfullscreen\n",
       "            \n",
       "        ></iframe>\n",
       "        "
      ],
      "text/plain": [
       "<IPython.lib.display.IFrame at 0x1adb3b69f40>"
      ]
     },
     "metadata": {},
     "output_type": "display_data"
    }
   ],
   "source": [
    "# Create layout for the dashboard\n",
    "app.layout = html.Div([\n",
    "    html.H1(\"Website Performance Metrics\"),\n",
    "    dcc.Graph(\n",
    "        id='average-load-time-chart',\n",
    "        figure={\n",
    "            'data': [go.Bar(x=['Average Page Load Time'], y=[average_page_load_time])],\n",
    "            'layout': go.Layout(title='Average Page Load Time')\n",
    "        }\n",
    "    ),\n",
    "    dcc.Graph(\n",
    "        id='average-bounce-rate-chart',\n",
    "        figure={\n",
    "            'data': [go.Bar(x=['Average Bounce Rate'], y=[average_bounce_rate])],\n",
    "            'layout': go.Layout(title='Average Bounce Rate')\n",
    "        }\n",
    "    ),\n",
    "    dcc.Graph(\n",
    "        id='average-conversion-rate-chart',\n",
    "        figure={\n",
    "            'data': [go.Bar(x=['Average Conversion Rate'], y=[average_conversion_rate])],\n",
    "            'layout': go.Layout(title='Average Conversion Rate')\n",
    "        }\n",
    "    ),\n",
    "    html.Div([\n",
    "        html.H4(f\"Highest Bounce Rate Month: {highest_bounce_rate_month}\"),\n",
    "        html.H4(f\"Highest Conversion Rate Month: {highest_conversion_rate_month}\")\n",
    "    ])\n",
    "])\n",
    "\n",
    "if __name__ == '__main__':\n",
    "    app.run_server(debug=True)\n"
   ]
  },
  {
   "cell_type": "code",
   "execution_count": null,
   "id": "2ff6a1a9",
   "metadata": {},
   "outputs": [],
   "source": []
  },
  {
   "cell_type": "code",
   "execution_count": null,
   "id": "14e8ba3a",
   "metadata": {},
   "outputs": [],
   "source": []
  },
  {
   "cell_type": "code",
   "execution_count": null,
   "id": "565f94f5",
   "metadata": {},
   "outputs": [],
   "source": []
  }
 ],
 "metadata": {
  "kernelspec": {
   "display_name": "Python 3 (ipykernel)",
   "language": "python",
   "name": "python3"
  },
  "language_info": {
   "codemirror_mode": {
    "name": "ipython",
    "version": 3
   },
   "file_extension": ".py",
   "mimetype": "text/x-python",
   "name": "python",
   "nbconvert_exporter": "python",
   "pygments_lexer": "ipython3",
   "version": "3.9.13"
  }
 },
 "nbformat": 4,
 "nbformat_minor": 5
}
